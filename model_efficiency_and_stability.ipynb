{
  "nbformat": 4,
  "nbformat_minor": 0,
  "metadata": {
    "colab": {
      "name": "model efficiency and stability.ipynb",
      "provenance": []
    },
    "kernelspec": {
      "name": "python3",
      "display_name": "Python 3"
    },
    "language_info": {
      "name": "python"
    }
  },
  "cells": [
    {
      "cell_type": "code",
      "source": [
        "from scipy import stats"
      ],
      "metadata": {
        "id": "InBVUwS62F9g"
      },
      "execution_count": 1,
      "outputs": []
    },
    {
      "cell_type": "code",
      "execution_count": 2,
      "metadata": {
        "id": "WAiReVdJ1FU-"
      },
      "outputs": [],
      "source": [
        "# Response time of the 3 predictor models\n",
        "# Logistic Regression, Naïve Bayes Classifier, vs Decision Tree\n",
        "\n",
        "model_lr = [2.50, 2.53, 3.15, 3.02]\n",
        "model_nb = [0.33, 0.42, 0.76, 0.41]\n",
        "model_dt = [4.37, 3.28, 4.12, 3.42]"
      ]
    },
    {
      "cell_type": "code",
      "source": [
        "# Calculate means\n",
        "print(\"Mean LR: \", sum(model_lr)/len(model_lr))\n",
        "print(\"Mean NB: \", sum(model_nb)/len(model_nb))\n",
        "print(\"Mean DT: \", sum(model_dt)/len(model_dt))"
      ],
      "metadata": {
        "colab": {
          "base_uri": "https://localhost:8080/"
        },
        "id": "71vOwvJd3Z9s",
        "outputId": "18a46f07-1726-4d98-8fd9-761884657230"
      },
      "execution_count": 3,
      "outputs": [
        {
          "output_type": "stream",
          "name": "stdout",
          "text": [
            "Mean LR:  2.8\n",
            "Mean NB:  0.48\n",
            "Mean DT:  3.7975\n"
          ]
        }
      ]
    },
    {
      "cell_type": "code",
      "source": [
        "# Friedman Test to test between the 3 predictor models\n",
        "stats.friedmanchisquare(model_lr, model_nb, model_dt)"
      ],
      "metadata": {
        "colab": {
          "base_uri": "https://localhost:8080/"
        },
        "id": "j8C8oXw-2CDR",
        "outputId": "875aacc2-47fa-4438-a04d-376c26912d08"
      },
      "execution_count": 4,
      "outputs": [
        {
          "output_type": "execute_result",
          "data": {
            "text/plain": [
              "FriedmanchisquareResult(statistic=8.0, pvalue=0.018315638888734182)"
            ]
          },
          "metadata": {},
          "execution_count": 4
        }
      ]
    },
    {
      "cell_type": "code",
      "source": [
        "# Can reject null hypothesis - there is a significant difference between the mean time\n",
        "# It takes to run Logistic Regression, Naïve Bayes Classifier, and Decision Tree"
      ],
      "metadata": {
        "id": "cCaByXA23b3Z"
      },
      "execution_count": 5,
      "outputs": []
    },
    {
      "cell_type": "code",
      "source": [
        "# Response time of the 4 train sample sets\n",
        "# Unbalanced, Balanced Random Under-Sampling, Balanced SMOTE Oversampling, Balanced SMOTETomek Sampling)\n",
        "\n",
        "unb = [2.50, 0.33, 4.37]\n",
        "bal7 = [2.53, 0.42, 3.28]\n",
        "bal8 = [3.15, 0.76, 4.12]\n",
        "bal9 = [3.02, 0.41, 3.42]"
      ],
      "metadata": {
        "id": "xMFa75-n5keK"
      },
      "execution_count": 6,
      "outputs": []
    },
    {
      "cell_type": "code",
      "source": [
        "# Calculate means\n",
        "print(\"Mean Unbalanced: \", sum(unb)/len(unb))\n",
        "print(\"Mean Bal7: \", sum(bal7)/len(bal7))\n",
        "print(\"Mean Bal8: \", sum(bal8)/len(bal8))\n",
        "print(\"Mean Bal9: \", sum(bal9)/len(bal9))"
      ],
      "metadata": {
        "colab": {
          "base_uri": "https://localhost:8080/"
        },
        "id": "_Q2WzqTEB6dO",
        "outputId": "cda7955a-710b-427b-be76-fc49b09b94f8"
      },
      "execution_count": 7,
      "outputs": [
        {
          "output_type": "stream",
          "name": "stdout",
          "text": [
            "Mean Unbalanced:  2.4\n",
            "Mean Bal7:  2.0766666666666667\n",
            "Mean Bal8:  2.676666666666667\n",
            "Mean Bal9:  2.283333333333333\n"
          ]
        }
      ]
    },
    {
      "cell_type": "code",
      "source": [
        "# Friedman Test to test between the 3 predictor models\n",
        "stats.friedmanchisquare(unb, bal7, bal8, bal9)"
      ],
      "metadata": {
        "colab": {
          "base_uri": "https://localhost:8080/"
        },
        "id": "zlmXZ5TbCJzV",
        "outputId": "0eef395e-17b5-45c3-f01b-2ec3ef106159"
      },
      "execution_count": 8,
      "outputs": [
        {
          "output_type": "execute_result",
          "data": {
            "text/plain": [
              "FriedmanchisquareResult(statistic=3.4000000000000057, pvalue=0.33396524909015995)"
            ]
          },
          "metadata": {},
          "execution_count": 8
        }
      ]
    },
    {
      "cell_type": "code",
      "source": [
        ""
      ],
      "metadata": {
        "id": "A97jRKEpO6T_"
      },
      "execution_count": 8,
      "outputs": []
    },
    {
      "cell_type": "code",
      "source": [
        "# Stability Test - Cross Validation Accuracy from code file 7\n",
        "cv_lr = [1, 1, 1, 1, 1, 1, 1, 1, 0.95723014, 0.95918367]\n",
        "cv_nb = [0.99796334, 0.99592668, 0.99796334, 0.99796334, 0.99592668, 0.99389002, 0.99592668, 0.99796334, 0.99796334, 0.99795918]\n",
        "cv_dt = [1, 1, 1, 1, 1, 1, 1, 1, 1, 1]\n",
        "\n",
        "# Calculate means\n",
        "print(\"Mean cv_lr: \", sum(cv_lr)/len(cv_lr))\n",
        "print(\"Mean cv_nb: \", sum(cv_nb)/len(cv_nb))\n",
        "print(\"Mean cv_dt: \", sum(cv_dt)/len(cv_dt))\n",
        "\n",
        "# Friedman Test to test between the 3 predictor models\n",
        "stats.friedmanchisquare(cv_lr, cv_nb, cv_dt)"
      ],
      "metadata": {
        "id": "rUuBaJkNSk2m",
        "outputId": "8f9a2fcd-f965-471f-b8a3-2077a91ae96a",
        "colab": {
          "base_uri": "https://localhost:8080/"
        }
      },
      "execution_count": 9,
      "outputs": [
        {
          "output_type": "stream",
          "name": "stdout",
          "text": [
            "Mean cv_lr:  0.991641381\n",
            "Mean cv_nb:  0.996944594\n",
            "Mean cv_dt:  1.0\n"
          ]
        },
        {
          "output_type": "execute_result",
          "data": {
            "text/plain": [
              "FriedmanchisquareResult(statistic=13.000000000000007, pvalue=0.0015034391929775667)"
            ]
          },
          "metadata": {},
          "execution_count": 9
        }
      ]
    },
    {
      "cell_type": "code",
      "source": [
        "# Stability Test - Cross Validation Accuracy from code file 8\n",
        "cv_lr = [1, 1, 1, 1, 1, 1, 1, 1, 0.95723014, 0.95918367]\n",
        "cv_nb = [0.99796334, 0.99592668, 0.99796334, 0.99796334, 0.99592668, 0.99389002, 0.99592668, 0.99796334, 0.99796334, 0.99795918]\n",
        "cv_dt = [1, 1, 1, 1, 1, 1, 1, 1, 1, 1]\n",
        "\n",
        "# Calculate means\n",
        "print(\"Mean cv_lr: \", sum(cv_lr)/len(cv_lr))\n",
        "print(\"Mean cv_nb: \", sum(cv_nb)/len(cv_nb))\n",
        "print(\"Mean cv_dt: \", sum(cv_dt)/len(cv_dt))\n",
        "\n",
        "# Friedman Test to test between the 3 predictor models\n",
        "stats.friedmanchisquare(cv_lr, cv_nb, cv_dt)"
      ],
      "metadata": {
        "colab": {
          "base_uri": "https://localhost:8080/"
        },
        "id": "BG8oEmplR9rs",
        "outputId": "34619633-a970-4ac9-92ce-958c2cde06d3"
      },
      "execution_count": 10,
      "outputs": [
        {
          "output_type": "stream",
          "name": "stdout",
          "text": [
            "Mean cv_lr:  0.991641381\n",
            "Mean cv_nb:  0.996944594\n",
            "Mean cv_dt:  1.0\n"
          ]
        },
        {
          "output_type": "execute_result",
          "data": {
            "text/plain": [
              "FriedmanchisquareResult(statistic=13.000000000000007, pvalue=0.0015034391929775667)"
            ]
          },
          "metadata": {},
          "execution_count": 10
        }
      ]
    },
    {
      "cell_type": "code",
      "source": [
        "# Stability Test - Cross Validation Accuracy from code file 9\n",
        "cv_lr = [1, 1, 1, 1, 1, 1, 1, 1, 0.95723014, 0.95918367]\n",
        "cv_nb = [0.99796334, 0.99592668, 0.99796334, 0.99796334, 0.99592668, 0.99389002, 0.99592668, 0.99796334, 0.99796334, 0.99795918]\n",
        "cv_dt = [1, 1, 1, 1, 1, 1, 1, 1, 1, 1]"
      ],
      "metadata": {
        "id": "4SUqgPuQN4kH"
      },
      "execution_count": 11,
      "outputs": []
    },
    {
      "cell_type": "code",
      "source": [
        "# Calculate means\n",
        "print(\"Mean cv_lr: \", sum(cv_lr)/len(cv_lr))\n",
        "print(\"Mean cv_nb: \", sum(cv_nb)/len(cv_nb))\n",
        "print(\"Mean cv_dt: \", sum(cv_dt)/len(cv_dt))"
      ],
      "metadata": {
        "colab": {
          "base_uri": "https://localhost:8080/"
        },
        "id": "8quXlzbfOgPk",
        "outputId": "51018254-0f52-4175-d6e9-bf0610880ee0"
      },
      "execution_count": 12,
      "outputs": [
        {
          "output_type": "stream",
          "name": "stdout",
          "text": [
            "Mean cv_lr:  0.991641381\n",
            "Mean cv_nb:  0.996944594\n",
            "Mean cv_dt:  1.0\n"
          ]
        }
      ]
    },
    {
      "cell_type": "code",
      "source": [
        "# Friedman Test to test between the 3 predictor models\n",
        "stats.friedmanchisquare(cv_lr, cv_nb, cv_dt)"
      ],
      "metadata": {
        "colab": {
          "base_uri": "https://localhost:8080/"
        },
        "id": "BfAK4IX_OsMM",
        "outputId": "990b1700-121e-4155-81a6-605c541470e7"
      },
      "execution_count": 13,
      "outputs": [
        {
          "output_type": "execute_result",
          "data": {
            "text/plain": [
              "FriedmanchisquareResult(statistic=13.000000000000007, pvalue=0.0015034391929775667)"
            ]
          },
          "metadata": {},
          "execution_count": 13
        }
      ]
    }
  ]
}