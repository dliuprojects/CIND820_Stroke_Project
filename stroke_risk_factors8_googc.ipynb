{
  "nbformat": 4,
  "nbformat_minor": 0,
  "metadata": {
    "colab": {
      "name": "stroke risk factors8-googc.ipynb",
      "provenance": [],
      "collapsed_sections": []
    },
    "kernelspec": {
      "name": "python3",
      "display_name": "Python 3"
    },
    "language_info": {
      "name": "python"
    }
  },
  "cells": [
    {
      "cell_type": "code",
      "source": [
        "# Balancing dataset using SMOTE oversampling method\n",
        "# Then applied Logistic Regression, Naive Bayes Classifier, and Decision Tree algorithms\n",
        "# Compared changes in accuracy rates when 10-fold cross-validation applied"
      ],
      "metadata": {
        "id": "Z8BcJ7LfeQPU"
      },
      "execution_count": 1,
      "outputs": []
    },
    {
      "cell_type": "code",
      "execution_count": 2,
      "metadata": {
        "colab": {
          "base_uri": "https://localhost:8080/"
        },
        "id": "MLZEAoGjoY8M",
        "outputId": "ad1225e4-ea65-4083-e1bd-7234ff4a4749"
      },
      "outputs": [
        {
          "output_type": "stream",
          "name": "stdout",
          "text": [
            "Requirement already satisfied: pandas-profiling[notebook] in /usr/local/lib/python3.7/dist-packages (1.4.1)\n",
            "\u001b[33mWARNING: pandas-profiling 1.4.1 does not provide the extra 'notebook'\u001b[0m\n",
            "Requirement already satisfied: jinja2>=2.8 in /usr/local/lib/python3.7/dist-packages (from pandas-profiling[notebook]) (2.11.3)\n",
            "Requirement already satisfied: six>=1.9 in /usr/local/lib/python3.7/dist-packages (from pandas-profiling[notebook]) (1.15.0)\n",
            "Requirement already satisfied: matplotlib>=1.4 in /usr/local/lib/python3.7/dist-packages (from pandas-profiling[notebook]) (3.2.2)\n",
            "Requirement already satisfied: pandas>=0.19 in /usr/local/lib/python3.7/dist-packages (from pandas-profiling[notebook]) (1.3.5)\n",
            "Requirement already satisfied: MarkupSafe>=0.23 in /usr/local/lib/python3.7/dist-packages (from jinja2>=2.8->pandas-profiling[notebook]) (2.0.1)\n",
            "Requirement already satisfied: cycler>=0.10 in /usr/local/lib/python3.7/dist-packages (from matplotlib>=1.4->pandas-profiling[notebook]) (0.11.0)\n",
            "Requirement already satisfied: numpy>=1.11 in /usr/local/lib/python3.7/dist-packages (from matplotlib>=1.4->pandas-profiling[notebook]) (1.21.5)\n",
            "Requirement already satisfied: pyparsing!=2.0.4,!=2.1.2,!=2.1.6,>=2.0.1 in /usr/local/lib/python3.7/dist-packages (from matplotlib>=1.4->pandas-profiling[notebook]) (3.0.7)\n",
            "Requirement already satisfied: kiwisolver>=1.0.1 in /usr/local/lib/python3.7/dist-packages (from matplotlib>=1.4->pandas-profiling[notebook]) (1.4.0)\n",
            "Requirement already satisfied: python-dateutil>=2.1 in /usr/local/lib/python3.7/dist-packages (from matplotlib>=1.4->pandas-profiling[notebook]) (2.8.2)\n",
            "Requirement already satisfied: typing-extensions in /usr/local/lib/python3.7/dist-packages (from kiwisolver>=1.0.1->matplotlib>=1.4->pandas-profiling[notebook]) (3.10.0.2)\n",
            "Requirement already satisfied: pytz>=2017.3 in /usr/local/lib/python3.7/dist-packages (from pandas>=0.19->pandas-profiling[notebook]) (2018.9)\n",
            "Enabling notebook extension jupyter-js-widgets/extension...\n",
            "Paths used for configuration of notebook: \n",
            "    \t/root/.jupyter/nbconfig/notebook.json\n",
            "      - Validating: \u001b[32mOK\u001b[0m\n",
            "Paths used for configuration of notebook: \n",
            "    \t/root/.jupyter/nbconfig/notebook.json\n",
            "Requirement already satisfied: matplotlib in /usr/local/lib/python3.7/dist-packages (3.2.2)\n",
            "Requirement already satisfied: cycler>=0.10 in /usr/local/lib/python3.7/dist-packages (from matplotlib) (0.11.0)\n",
            "Requirement already satisfied: python-dateutil>=2.1 in /usr/local/lib/python3.7/dist-packages (from matplotlib) (2.8.2)\n",
            "Requirement already satisfied: pyparsing!=2.0.4,!=2.1.2,!=2.1.6,>=2.0.1 in /usr/local/lib/python3.7/dist-packages (from matplotlib) (3.0.7)\n",
            "Requirement already satisfied: numpy>=1.11 in /usr/local/lib/python3.7/dist-packages (from matplotlib) (1.21.5)\n",
            "Requirement already satisfied: kiwisolver>=1.0.1 in /usr/local/lib/python3.7/dist-packages (from matplotlib) (1.4.0)\n",
            "Requirement already satisfied: typing-extensions in /usr/local/lib/python3.7/dist-packages (from kiwisolver>=1.0.1->matplotlib) (3.10.0.2)\n",
            "Requirement already satisfied: six>=1.5 in /usr/local/lib/python3.7/dist-packages (from python-dateutil>=2.1->matplotlib) (1.15.0)\n",
            "Requirement already satisfied: graphviz in /usr/local/lib/python3.7/dist-packages (0.10.1)\n"
          ]
        }
      ],
      "source": [
        "import sys\n",
        "!{sys.executable} -m pip install -U pandas-profiling[notebook]\n",
        "!jupyter nbextension enable --py widgetsnbextension\n",
        "!pip install matplotlib\n",
        "!pip install graphviz"
      ]
    },
    {
      "cell_type": "code",
      "source": [
        "from google.colab import files\n",
        "uploaded = files.upload()"
      ],
      "metadata": {
        "colab": {
          "resources": {
            "http://localhost:8080/nbextensions/google.colab/files.js": {
              "data": "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",
              "ok": true,
              "headers": [
                [
                  "content-type",
                  "application/javascript"
                ]
              ],
              "status": 200,
              "status_text": ""
            }
          },
          "base_uri": "https://localhost:8080/",
          "height": 73
        },
        "id": "zTfS9HqookpJ",
        "outputId": "e6c951d7-24e4-4f75-d8d2-1f1c1a6d373a"
      },
      "execution_count": 3,
      "outputs": [
        {
          "output_type": "display_data",
          "data": {
            "text/plain": [
              "<IPython.core.display.HTML object>"
            ],
            "text/html": [
              "\n",
              "     <input type=\"file\" id=\"files-27ff244e-b46e-4274-880e-86e066431c90\" name=\"files[]\" multiple disabled\n",
              "        style=\"border:none\" />\n",
              "     <output id=\"result-27ff244e-b46e-4274-880e-86e066431c90\">\n",
              "      Upload widget is only available when the cell has been executed in the\n",
              "      current browser session. Please rerun this cell to enable.\n",
              "      </output>\n",
              "      <script src=\"/nbextensions/google.colab/files.js\"></script> "
            ]
          },
          "metadata": {}
        },
        {
          "output_type": "stream",
          "name": "stdout",
          "text": [
            "Saving stroke preprocessed.arff to stroke preprocessed.arff\n"
          ]
        }
      ]
    },
    {
      "cell_type": "code",
      "source": [
        "import pandas as pd\n",
        "from scipy.io import arff\n",
        "import numpy as np"
      ],
      "metadata": {
        "id": "xM0pye02orQa"
      },
      "execution_count": 4,
      "outputs": []
    },
    {
      "cell_type": "code",
      "source": [
        "# Timing how long predictors take to run for efficiency calculations\n",
        "# Import libraries\n",
        "import time"
      ],
      "metadata": {
        "id": "tRAyBxA_DcAZ"
      },
      "execution_count": 5,
      "outputs": []
    },
    {
      "cell_type": "code",
      "source": [
        "data_file = \"stroke preprocessed.arff\"\n",
        "data = arff.loadarff(data_file)"
      ],
      "metadata": {
        "id": "_nl6TcohowCO"
      },
      "execution_count": 6,
      "outputs": []
    },
    {
      "cell_type": "code",
      "source": [
        "df = pd.DataFrame(data[0])\n",
        "for col in df.columns:\n",
        "  if df[col].dtype == 'object':\n",
        "    # Ensure data isn't read as bytes but rather as strings from file\n",
        "    df[col] = df[col].str.decode('utf-8')\n",
        "# Examine data types\n",
        "print(df.dtypes)"
      ],
      "metadata": {
        "colab": {
          "base_uri": "https://localhost:8080/"
        },
        "id": "oHnjlBUCw4qL",
        "outputId": "e4646e0d-f29a-47b2-847d-6c9b481ba8e6"
      },
      "execution_count": 7,
      "outputs": [
        {
          "output_type": "stream",
          "name": "stdout",
          "text": [
            "\"id\"                   float64\n",
            "\"gender\"                object\n",
            "\"age\"                  float64\n",
            "\"hypertension\"          object\n",
            "\"heart_disease\"         object\n",
            "\"ever_married\"          object\n",
            "\"work_type\"             object\n",
            "\"residence_type\"        object\n",
            "\"avg_glucose_level\"    float64\n",
            "\"bmi\"                  float64\n",
            "\"smoking_status\"        object\n",
            "\"stroke\"                object\n",
            "dtype: object\n"
          ]
        }
      ]
    },
    {
      "cell_type": "code",
      "source": [
        "# Display first 10 rows\n",
        "df.head(10)"
      ],
      "metadata": {
        "colab": {
          "base_uri": "https://localhost:8080/",
          "height": 462
        },
        "id": "LoNwq9QyxXnT",
        "outputId": "b078f87e-f586-488e-a100-300cf7a3d636"
      },
      "execution_count": 8,
      "outputs": [
        {
          "output_type": "execute_result",
          "data": {
            "text/plain": [
              "      \"id\" \"gender\"  \"age\" \"hypertension\" \"heart_disease\" \"ever_married\"  \\\n",
              "0   9046.0     Male   67.0              0               1            Yes   \n",
              "1  51676.0   Female   61.0              0               0            Yes   \n",
              "2  31112.0     Male   80.0              0               1            Yes   \n",
              "3  60182.0   Female   49.0              0               0            Yes   \n",
              "4   1665.0   Female   79.0              1               0            Yes   \n",
              "5  56669.0     Male   81.0              0               0            Yes   \n",
              "6  53882.0     Male   74.0              1               1            Yes   \n",
              "7  10434.0   Female   69.0              0               0             No   \n",
              "8  27419.0   Female   59.0              0               0            Yes   \n",
              "9  60491.0   Female   78.0              0               0            Yes   \n",
              "\n",
              "     \"work_type\" \"residence_type\"  \"avg_glucose_level\"   \"bmi\"  \\\n",
              "0        Private            Urban               228.69    36.6   \n",
              "1  Self-employed            Rural               202.21  5000.0   \n",
              "2        Private            Rural               105.92    32.5   \n",
              "3        Private            Urban               171.23    34.4   \n",
              "4  Self-employed            Rural               174.12    24.0   \n",
              "5        Private            Urban               186.21    29.0   \n",
              "6        Private            Rural                70.09    27.4   \n",
              "7        Private            Urban                94.39    22.8   \n",
              "8        Private            Rural                76.15  5000.0   \n",
              "9        Private            Urban                58.57    24.2   \n",
              "\n",
              "  \"smoking_status\" \"stroke\"  \n",
              "0  formerly smoked        1  \n",
              "1     never smoked        1  \n",
              "2     never smoked        1  \n",
              "3           smokes        1  \n",
              "4     never smoked        1  \n",
              "5  formerly smoked        1  \n",
              "6     never smoked        1  \n",
              "7     never smoked        1  \n",
              "8          Unknown        1  \n",
              "9          Unknown        1  "
            ],
            "text/html": [
              "\n",
              "  <div id=\"df-689e35f2-8aef-4258-b3e7-a815ff142ba7\">\n",
              "    <div class=\"colab-df-container\">\n",
              "      <div>\n",
              "<style scoped>\n",
              "    .dataframe tbody tr th:only-of-type {\n",
              "        vertical-align: middle;\n",
              "    }\n",
              "\n",
              "    .dataframe tbody tr th {\n",
              "        vertical-align: top;\n",
              "    }\n",
              "\n",
              "    .dataframe thead th {\n",
              "        text-align: right;\n",
              "    }\n",
              "</style>\n",
              "<table border=\"1\" class=\"dataframe\">\n",
              "  <thead>\n",
              "    <tr style=\"text-align: right;\">\n",
              "      <th></th>\n",
              "      <th>\"id\"</th>\n",
              "      <th>\"gender\"</th>\n",
              "      <th>\"age\"</th>\n",
              "      <th>\"hypertension\"</th>\n",
              "      <th>\"heart_disease\"</th>\n",
              "      <th>\"ever_married\"</th>\n",
              "      <th>\"work_type\"</th>\n",
              "      <th>\"residence_type\"</th>\n",
              "      <th>\"avg_glucose_level\"</th>\n",
              "      <th>\"bmi\"</th>\n",
              "      <th>\"smoking_status\"</th>\n",
              "      <th>\"stroke\"</th>\n",
              "    </tr>\n",
              "  </thead>\n",
              "  <tbody>\n",
              "    <tr>\n",
              "      <th>0</th>\n",
              "      <td>9046.0</td>\n",
              "      <td>Male</td>\n",
              "      <td>67.0</td>\n",
              "      <td>0</td>\n",
              "      <td>1</td>\n",
              "      <td>Yes</td>\n",
              "      <td>Private</td>\n",
              "      <td>Urban</td>\n",
              "      <td>228.69</td>\n",
              "      <td>36.6</td>\n",
              "      <td>formerly smoked</td>\n",
              "      <td>1</td>\n",
              "    </tr>\n",
              "    <tr>\n",
              "      <th>1</th>\n",
              "      <td>51676.0</td>\n",
              "      <td>Female</td>\n",
              "      <td>61.0</td>\n",
              "      <td>0</td>\n",
              "      <td>0</td>\n",
              "      <td>Yes</td>\n",
              "      <td>Self-employed</td>\n",
              "      <td>Rural</td>\n",
              "      <td>202.21</td>\n",
              "      <td>5000.0</td>\n",
              "      <td>never smoked</td>\n",
              "      <td>1</td>\n",
              "    </tr>\n",
              "    <tr>\n",
              "      <th>2</th>\n",
              "      <td>31112.0</td>\n",
              "      <td>Male</td>\n",
              "      <td>80.0</td>\n",
              "      <td>0</td>\n",
              "      <td>1</td>\n",
              "      <td>Yes</td>\n",
              "      <td>Private</td>\n",
              "      <td>Rural</td>\n",
              "      <td>105.92</td>\n",
              "      <td>32.5</td>\n",
              "      <td>never smoked</td>\n",
              "      <td>1</td>\n",
              "    </tr>\n",
              "    <tr>\n",
              "      <th>3</th>\n",
              "      <td>60182.0</td>\n",
              "      <td>Female</td>\n",
              "      <td>49.0</td>\n",
              "      <td>0</td>\n",
              "      <td>0</td>\n",
              "      <td>Yes</td>\n",
              "      <td>Private</td>\n",
              "      <td>Urban</td>\n",
              "      <td>171.23</td>\n",
              "      <td>34.4</td>\n",
              "      <td>smokes</td>\n",
              "      <td>1</td>\n",
              "    </tr>\n",
              "    <tr>\n",
              "      <th>4</th>\n",
              "      <td>1665.0</td>\n",
              "      <td>Female</td>\n",
              "      <td>79.0</td>\n",
              "      <td>1</td>\n",
              "      <td>0</td>\n",
              "      <td>Yes</td>\n",
              "      <td>Self-employed</td>\n",
              "      <td>Rural</td>\n",
              "      <td>174.12</td>\n",
              "      <td>24.0</td>\n",
              "      <td>never smoked</td>\n",
              "      <td>1</td>\n",
              "    </tr>\n",
              "    <tr>\n",
              "      <th>5</th>\n",
              "      <td>56669.0</td>\n",
              "      <td>Male</td>\n",
              "      <td>81.0</td>\n",
              "      <td>0</td>\n",
              "      <td>0</td>\n",
              "      <td>Yes</td>\n",
              "      <td>Private</td>\n",
              "      <td>Urban</td>\n",
              "      <td>186.21</td>\n",
              "      <td>29.0</td>\n",
              "      <td>formerly smoked</td>\n",
              "      <td>1</td>\n",
              "    </tr>\n",
              "    <tr>\n",
              "      <th>6</th>\n",
              "      <td>53882.0</td>\n",
              "      <td>Male</td>\n",
              "      <td>74.0</td>\n",
              "      <td>1</td>\n",
              "      <td>1</td>\n",
              "      <td>Yes</td>\n",
              "      <td>Private</td>\n",
              "      <td>Rural</td>\n",
              "      <td>70.09</td>\n",
              "      <td>27.4</td>\n",
              "      <td>never smoked</td>\n",
              "      <td>1</td>\n",
              "    </tr>\n",
              "    <tr>\n",
              "      <th>7</th>\n",
              "      <td>10434.0</td>\n",
              "      <td>Female</td>\n",
              "      <td>69.0</td>\n",
              "      <td>0</td>\n",
              "      <td>0</td>\n",
              "      <td>No</td>\n",
              "      <td>Private</td>\n",
              "      <td>Urban</td>\n",
              "      <td>94.39</td>\n",
              "      <td>22.8</td>\n",
              "      <td>never smoked</td>\n",
              "      <td>1</td>\n",
              "    </tr>\n",
              "    <tr>\n",
              "      <th>8</th>\n",
              "      <td>27419.0</td>\n",
              "      <td>Female</td>\n",
              "      <td>59.0</td>\n",
              "      <td>0</td>\n",
              "      <td>0</td>\n",
              "      <td>Yes</td>\n",
              "      <td>Private</td>\n",
              "      <td>Rural</td>\n",
              "      <td>76.15</td>\n",
              "      <td>5000.0</td>\n",
              "      <td>Unknown</td>\n",
              "      <td>1</td>\n",
              "    </tr>\n",
              "    <tr>\n",
              "      <th>9</th>\n",
              "      <td>60491.0</td>\n",
              "      <td>Female</td>\n",
              "      <td>78.0</td>\n",
              "      <td>0</td>\n",
              "      <td>0</td>\n",
              "      <td>Yes</td>\n",
              "      <td>Private</td>\n",
              "      <td>Urban</td>\n",
              "      <td>58.57</td>\n",
              "      <td>24.2</td>\n",
              "      <td>Unknown</td>\n",
              "      <td>1</td>\n",
              "    </tr>\n",
              "  </tbody>\n",
              "</table>\n",
              "</div>\n",
              "      <button class=\"colab-df-convert\" onclick=\"convertToInteractive('df-689e35f2-8aef-4258-b3e7-a815ff142ba7')\"\n",
              "              title=\"Convert this dataframe to an interactive table.\"\n",
              "              style=\"display:none;\">\n",
              "        \n",
              "  <svg xmlns=\"http://www.w3.org/2000/svg\" height=\"24px\"viewBox=\"0 0 24 24\"\n",
              "       width=\"24px\">\n",
              "    <path d=\"M0 0h24v24H0V0z\" fill=\"none\"/>\n",
              "    <path d=\"M18.56 5.44l.94 2.06.94-2.06 2.06-.94-2.06-.94-.94-2.06-.94 2.06-2.06.94zm-11 1L8.5 8.5l.94-2.06 2.06-.94-2.06-.94L8.5 2.5l-.94 2.06-2.06.94zm10 10l.94 2.06.94-2.06 2.06-.94-2.06-.94-.94-2.06-.94 2.06-2.06.94z\"/><path d=\"M17.41 7.96l-1.37-1.37c-.4-.4-.92-.59-1.43-.59-.52 0-1.04.2-1.43.59L10.3 9.45l-7.72 7.72c-.78.78-.78 2.05 0 2.83L4 21.41c.39.39.9.59 1.41.59.51 0 1.02-.2 1.41-.59l7.78-7.78 2.81-2.81c.8-.78.8-2.07 0-2.86zM5.41 20L4 18.59l7.72-7.72 1.47 1.35L5.41 20z\"/>\n",
              "  </svg>\n",
              "      </button>\n",
              "      \n",
              "  <style>\n",
              "    .colab-df-container {\n",
              "      display:flex;\n",
              "      flex-wrap:wrap;\n",
              "      gap: 12px;\n",
              "    }\n",
              "\n",
              "    .colab-df-convert {\n",
              "      background-color: #E8F0FE;\n",
              "      border: none;\n",
              "      border-radius: 50%;\n",
              "      cursor: pointer;\n",
              "      display: none;\n",
              "      fill: #1967D2;\n",
              "      height: 32px;\n",
              "      padding: 0 0 0 0;\n",
              "      width: 32px;\n",
              "    }\n",
              "\n",
              "    .colab-df-convert:hover {\n",
              "      background-color: #E2EBFA;\n",
              "      box-shadow: 0px 1px 2px rgba(60, 64, 67, 0.3), 0px 1px 3px 1px rgba(60, 64, 67, 0.15);\n",
              "      fill: #174EA6;\n",
              "    }\n",
              "\n",
              "    [theme=dark] .colab-df-convert {\n",
              "      background-color: #3B4455;\n",
              "      fill: #D2E3FC;\n",
              "    }\n",
              "\n",
              "    [theme=dark] .colab-df-convert:hover {\n",
              "      background-color: #434B5C;\n",
              "      box-shadow: 0px 1px 3px 1px rgba(0, 0, 0, 0.15);\n",
              "      filter: drop-shadow(0px 1px 2px rgba(0, 0, 0, 0.3));\n",
              "      fill: #FFFFFF;\n",
              "    }\n",
              "  </style>\n",
              "\n",
              "      <script>\n",
              "        const buttonEl =\n",
              "          document.querySelector('#df-689e35f2-8aef-4258-b3e7-a815ff142ba7 button.colab-df-convert');\n",
              "        buttonEl.style.display =\n",
              "          google.colab.kernel.accessAllowed ? 'block' : 'none';\n",
              "\n",
              "        async function convertToInteractive(key) {\n",
              "          const element = document.querySelector('#df-689e35f2-8aef-4258-b3e7-a815ff142ba7');\n",
              "          const dataTable =\n",
              "            await google.colab.kernel.invokeFunction('convertToInteractive',\n",
              "                                                     [key], {});\n",
              "          if (!dataTable) return;\n",
              "\n",
              "          const docLinkHtml = 'Like what you see? Visit the ' +\n",
              "            '<a target=\"_blank\" href=https://colab.research.google.com/notebooks/data_table.ipynb>data table notebook</a>'\n",
              "            + ' to learn more about interactive tables.';\n",
              "          element.innerHTML = '';\n",
              "          dataTable['output_type'] = 'display_data';\n",
              "          await google.colab.output.renderOutput(dataTable, element);\n",
              "          const docLink = document.createElement('div');\n",
              "          docLink.innerHTML = docLinkHtml;\n",
              "          element.appendChild(docLink);\n",
              "        }\n",
              "      </script>\n",
              "    </div>\n",
              "  </div>\n",
              "  "
            ]
          },
          "metadata": {},
          "execution_count": 8
        }
      ]
    },
    {
      "cell_type": "code",
      "source": [
        "# Examine meta info about data\n",
        "df.info()"
      ],
      "metadata": {
        "colab": {
          "base_uri": "https://localhost:8080/"
        },
        "id": "xaTjdIv-xkT4",
        "outputId": "caf63683-d8fc-49a3-a174-76bef1b1bcbe"
      },
      "execution_count": 9,
      "outputs": [
        {
          "output_type": "stream",
          "name": "stdout",
          "text": [
            "<class 'pandas.core.frame.DataFrame'>\n",
            "RangeIndex: 5110 entries, 0 to 5109\n",
            "Data columns (total 12 columns):\n",
            " #   Column               Non-Null Count  Dtype  \n",
            "---  ------               --------------  -----  \n",
            " 0   \"id\"                 5110 non-null   float64\n",
            " 1   \"gender\"             5110 non-null   object \n",
            " 2   \"age\"                5110 non-null   float64\n",
            " 3   \"hypertension\"       5110 non-null   object \n",
            " 4   \"heart_disease\"      5110 non-null   object \n",
            " 5   \"ever_married\"       5110 non-null   object \n",
            " 6   \"work_type\"          5110 non-null   object \n",
            " 7   \"residence_type\"     5110 non-null   object \n",
            " 8   \"avg_glucose_level\"  5110 non-null   float64\n",
            " 9   \"bmi\"                5110 non-null   float64\n",
            " 10  \"smoking_status\"     5110 non-null   object \n",
            " 11  \"stroke\"             5110 non-null   object \n",
            "dtypes: float64(4), object(8)\n",
            "memory usage: 479.2+ KB\n"
          ]
        }
      ]
    },
    {
      "cell_type": "code",
      "source": [
        "# The original 201 null values were all from bmi column, and they have been replaced by placeholder value 5000\n",
        "# Convert the 5000 values back into null values\n",
        "df = df.replace(5000.0, np.nan)"
      ],
      "metadata": {
        "id": "oqDGPQNwxxpo"
      },
      "execution_count": 10,
      "outputs": []
    },
    {
      "cell_type": "code",
      "source": [
        "# Check head of dataset again\n",
        "df.head(10)"
      ],
      "metadata": {
        "colab": {
          "base_uri": "https://localhost:8080/",
          "height": 462
        },
        "id": "r3Jb_ijFyQ81",
        "outputId": "094a53be-faa2-4dad-f17d-f14c938b18cc"
      },
      "execution_count": 11,
      "outputs": [
        {
          "output_type": "execute_result",
          "data": {
            "text/plain": [
              "      \"id\" \"gender\"  \"age\" \"hypertension\" \"heart_disease\" \"ever_married\"  \\\n",
              "0   9046.0     Male   67.0              0               1            Yes   \n",
              "1  51676.0   Female   61.0              0               0            Yes   \n",
              "2  31112.0     Male   80.0              0               1            Yes   \n",
              "3  60182.0   Female   49.0              0               0            Yes   \n",
              "4   1665.0   Female   79.0              1               0            Yes   \n",
              "5  56669.0     Male   81.0              0               0            Yes   \n",
              "6  53882.0     Male   74.0              1               1            Yes   \n",
              "7  10434.0   Female   69.0              0               0             No   \n",
              "8  27419.0   Female   59.0              0               0            Yes   \n",
              "9  60491.0   Female   78.0              0               0            Yes   \n",
              "\n",
              "     \"work_type\" \"residence_type\"  \"avg_glucose_level\"  \"bmi\"  \\\n",
              "0        Private            Urban               228.69   36.6   \n",
              "1  Self-employed            Rural               202.21    NaN   \n",
              "2        Private            Rural               105.92   32.5   \n",
              "3        Private            Urban               171.23   34.4   \n",
              "4  Self-employed            Rural               174.12   24.0   \n",
              "5        Private            Urban               186.21   29.0   \n",
              "6        Private            Rural                70.09   27.4   \n",
              "7        Private            Urban                94.39   22.8   \n",
              "8        Private            Rural                76.15    NaN   \n",
              "9        Private            Urban                58.57   24.2   \n",
              "\n",
              "  \"smoking_status\" \"stroke\"  \n",
              "0  formerly smoked        1  \n",
              "1     never smoked        1  \n",
              "2     never smoked        1  \n",
              "3           smokes        1  \n",
              "4     never smoked        1  \n",
              "5  formerly smoked        1  \n",
              "6     never smoked        1  \n",
              "7     never smoked        1  \n",
              "8          Unknown        1  \n",
              "9          Unknown        1  "
            ],
            "text/html": [
              "\n",
              "  <div id=\"df-12f9fd5a-596a-4124-bd31-31107f533ce8\">\n",
              "    <div class=\"colab-df-container\">\n",
              "      <div>\n",
              "<style scoped>\n",
              "    .dataframe tbody tr th:only-of-type {\n",
              "        vertical-align: middle;\n",
              "    }\n",
              "\n",
              "    .dataframe tbody tr th {\n",
              "        vertical-align: top;\n",
              "    }\n",
              "\n",
              "    .dataframe thead th {\n",
              "        text-align: right;\n",
              "    }\n",
              "</style>\n",
              "<table border=\"1\" class=\"dataframe\">\n",
              "  <thead>\n",
              "    <tr style=\"text-align: right;\">\n",
              "      <th></th>\n",
              "      <th>\"id\"</th>\n",
              "      <th>\"gender\"</th>\n",
              "      <th>\"age\"</th>\n",
              "      <th>\"hypertension\"</th>\n",
              "      <th>\"heart_disease\"</th>\n",
              "      <th>\"ever_married\"</th>\n",
              "      <th>\"work_type\"</th>\n",
              "      <th>\"residence_type\"</th>\n",
              "      <th>\"avg_glucose_level\"</th>\n",
              "      <th>\"bmi\"</th>\n",
              "      <th>\"smoking_status\"</th>\n",
              "      <th>\"stroke\"</th>\n",
              "    </tr>\n",
              "  </thead>\n",
              "  <tbody>\n",
              "    <tr>\n",
              "      <th>0</th>\n",
              "      <td>9046.0</td>\n",
              "      <td>Male</td>\n",
              "      <td>67.0</td>\n",
              "      <td>0</td>\n",
              "      <td>1</td>\n",
              "      <td>Yes</td>\n",
              "      <td>Private</td>\n",
              "      <td>Urban</td>\n",
              "      <td>228.69</td>\n",
              "      <td>36.6</td>\n",
              "      <td>formerly smoked</td>\n",
              "      <td>1</td>\n",
              "    </tr>\n",
              "    <tr>\n",
              "      <th>1</th>\n",
              "      <td>51676.0</td>\n",
              "      <td>Female</td>\n",
              "      <td>61.0</td>\n",
              "      <td>0</td>\n",
              "      <td>0</td>\n",
              "      <td>Yes</td>\n",
              "      <td>Self-employed</td>\n",
              "      <td>Rural</td>\n",
              "      <td>202.21</td>\n",
              "      <td>NaN</td>\n",
              "      <td>never smoked</td>\n",
              "      <td>1</td>\n",
              "    </tr>\n",
              "    <tr>\n",
              "      <th>2</th>\n",
              "      <td>31112.0</td>\n",
              "      <td>Male</td>\n",
              "      <td>80.0</td>\n",
              "      <td>0</td>\n",
              "      <td>1</td>\n",
              "      <td>Yes</td>\n",
              "      <td>Private</td>\n",
              "      <td>Rural</td>\n",
              "      <td>105.92</td>\n",
              "      <td>32.5</td>\n",
              "      <td>never smoked</td>\n",
              "      <td>1</td>\n",
              "    </tr>\n",
              "    <tr>\n",
              "      <th>3</th>\n",
              "      <td>60182.0</td>\n",
              "      <td>Female</td>\n",
              "      <td>49.0</td>\n",
              "      <td>0</td>\n",
              "      <td>0</td>\n",
              "      <td>Yes</td>\n",
              "      <td>Private</td>\n",
              "      <td>Urban</td>\n",
              "      <td>171.23</td>\n",
              "      <td>34.4</td>\n",
              "      <td>smokes</td>\n",
              "      <td>1</td>\n",
              "    </tr>\n",
              "    <tr>\n",
              "      <th>4</th>\n",
              "      <td>1665.0</td>\n",
              "      <td>Female</td>\n",
              "      <td>79.0</td>\n",
              "      <td>1</td>\n",
              "      <td>0</td>\n",
              "      <td>Yes</td>\n",
              "      <td>Self-employed</td>\n",
              "      <td>Rural</td>\n",
              "      <td>174.12</td>\n",
              "      <td>24.0</td>\n",
              "      <td>never smoked</td>\n",
              "      <td>1</td>\n",
              "    </tr>\n",
              "    <tr>\n",
              "      <th>5</th>\n",
              "      <td>56669.0</td>\n",
              "      <td>Male</td>\n",
              "      <td>81.0</td>\n",
              "      <td>0</td>\n",
              "      <td>0</td>\n",
              "      <td>Yes</td>\n",
              "      <td>Private</td>\n",
              "      <td>Urban</td>\n",
              "      <td>186.21</td>\n",
              "      <td>29.0</td>\n",
              "      <td>formerly smoked</td>\n",
              "      <td>1</td>\n",
              "    </tr>\n",
              "    <tr>\n",
              "      <th>6</th>\n",
              "      <td>53882.0</td>\n",
              "      <td>Male</td>\n",
              "      <td>74.0</td>\n",
              "      <td>1</td>\n",
              "      <td>1</td>\n",
              "      <td>Yes</td>\n",
              "      <td>Private</td>\n",
              "      <td>Rural</td>\n",
              "      <td>70.09</td>\n",
              "      <td>27.4</td>\n",
              "      <td>never smoked</td>\n",
              "      <td>1</td>\n",
              "    </tr>\n",
              "    <tr>\n",
              "      <th>7</th>\n",
              "      <td>10434.0</td>\n",
              "      <td>Female</td>\n",
              "      <td>69.0</td>\n",
              "      <td>0</td>\n",
              "      <td>0</td>\n",
              "      <td>No</td>\n",
              "      <td>Private</td>\n",
              "      <td>Urban</td>\n",
              "      <td>94.39</td>\n",
              "      <td>22.8</td>\n",
              "      <td>never smoked</td>\n",
              "      <td>1</td>\n",
              "    </tr>\n",
              "    <tr>\n",
              "      <th>8</th>\n",
              "      <td>27419.0</td>\n",
              "      <td>Female</td>\n",
              "      <td>59.0</td>\n",
              "      <td>0</td>\n",
              "      <td>0</td>\n",
              "      <td>Yes</td>\n",
              "      <td>Private</td>\n",
              "      <td>Rural</td>\n",
              "      <td>76.15</td>\n",
              "      <td>NaN</td>\n",
              "      <td>Unknown</td>\n",
              "      <td>1</td>\n",
              "    </tr>\n",
              "    <tr>\n",
              "      <th>9</th>\n",
              "      <td>60491.0</td>\n",
              "      <td>Female</td>\n",
              "      <td>78.0</td>\n",
              "      <td>0</td>\n",
              "      <td>0</td>\n",
              "      <td>Yes</td>\n",
              "      <td>Private</td>\n",
              "      <td>Urban</td>\n",
              "      <td>58.57</td>\n",
              "      <td>24.2</td>\n",
              "      <td>Unknown</td>\n",
              "      <td>1</td>\n",
              "    </tr>\n",
              "  </tbody>\n",
              "</table>\n",
              "</div>\n",
              "      <button class=\"colab-df-convert\" onclick=\"convertToInteractive('df-12f9fd5a-596a-4124-bd31-31107f533ce8')\"\n",
              "              title=\"Convert this dataframe to an interactive table.\"\n",
              "              style=\"display:none;\">\n",
              "        \n",
              "  <svg xmlns=\"http://www.w3.org/2000/svg\" height=\"24px\"viewBox=\"0 0 24 24\"\n",
              "       width=\"24px\">\n",
              "    <path d=\"M0 0h24v24H0V0z\" fill=\"none\"/>\n",
              "    <path d=\"M18.56 5.44l.94 2.06.94-2.06 2.06-.94-2.06-.94-.94-2.06-.94 2.06-2.06.94zm-11 1L8.5 8.5l.94-2.06 2.06-.94-2.06-.94L8.5 2.5l-.94 2.06-2.06.94zm10 10l.94 2.06.94-2.06 2.06-.94-2.06-.94-.94-2.06-.94 2.06-2.06.94z\"/><path d=\"M17.41 7.96l-1.37-1.37c-.4-.4-.92-.59-1.43-.59-.52 0-1.04.2-1.43.59L10.3 9.45l-7.72 7.72c-.78.78-.78 2.05 0 2.83L4 21.41c.39.39.9.59 1.41.59.51 0 1.02-.2 1.41-.59l7.78-7.78 2.81-2.81c.8-.78.8-2.07 0-2.86zM5.41 20L4 18.59l7.72-7.72 1.47 1.35L5.41 20z\"/>\n",
              "  </svg>\n",
              "      </button>\n",
              "      \n",
              "  <style>\n",
              "    .colab-df-container {\n",
              "      display:flex;\n",
              "      flex-wrap:wrap;\n",
              "      gap: 12px;\n",
              "    }\n",
              "\n",
              "    .colab-df-convert {\n",
              "      background-color: #E8F0FE;\n",
              "      border: none;\n",
              "      border-radius: 50%;\n",
              "      cursor: pointer;\n",
              "      display: none;\n",
              "      fill: #1967D2;\n",
              "      height: 32px;\n",
              "      padding: 0 0 0 0;\n",
              "      width: 32px;\n",
              "    }\n",
              "\n",
              "    .colab-df-convert:hover {\n",
              "      background-color: #E2EBFA;\n",
              "      box-shadow: 0px 1px 2px rgba(60, 64, 67, 0.3), 0px 1px 3px 1px rgba(60, 64, 67, 0.15);\n",
              "      fill: #174EA6;\n",
              "    }\n",
              "\n",
              "    [theme=dark] .colab-df-convert {\n",
              "      background-color: #3B4455;\n",
              "      fill: #D2E3FC;\n",
              "    }\n",
              "\n",
              "    [theme=dark] .colab-df-convert:hover {\n",
              "      background-color: #434B5C;\n",
              "      box-shadow: 0px 1px 3px 1px rgba(0, 0, 0, 0.15);\n",
              "      filter: drop-shadow(0px 1px 2px rgba(0, 0, 0, 0.3));\n",
              "      fill: #FFFFFF;\n",
              "    }\n",
              "  </style>\n",
              "\n",
              "      <script>\n",
              "        const buttonEl =\n",
              "          document.querySelector('#df-12f9fd5a-596a-4124-bd31-31107f533ce8 button.colab-df-convert');\n",
              "        buttonEl.style.display =\n",
              "          google.colab.kernel.accessAllowed ? 'block' : 'none';\n",
              "\n",
              "        async function convertToInteractive(key) {\n",
              "          const element = document.querySelector('#df-12f9fd5a-596a-4124-bd31-31107f533ce8');\n",
              "          const dataTable =\n",
              "            await google.colab.kernel.invokeFunction('convertToInteractive',\n",
              "                                                     [key], {});\n",
              "          if (!dataTable) return;\n",
              "\n",
              "          const docLinkHtml = 'Like what you see? Visit the ' +\n",
              "            '<a target=\"_blank\" href=https://colab.research.google.com/notebooks/data_table.ipynb>data table notebook</a>'\n",
              "            + ' to learn more about interactive tables.';\n",
              "          element.innerHTML = '';\n",
              "          dataTable['output_type'] = 'display_data';\n",
              "          await google.colab.output.renderOutput(dataTable, element);\n",
              "          const docLink = document.createElement('div');\n",
              "          docLink.innerHTML = docLinkHtml;\n",
              "          element.appendChild(docLink);\n",
              "        }\n",
              "      </script>\n",
              "    </div>\n",
              "  </div>\n",
              "  "
            ]
          },
          "metadata": {},
          "execution_count": 11
        }
      ]
    },
    {
      "cell_type": "code",
      "source": [
        "# Check structure of data types to ensure bmi remains float\n",
        "df.info()"
      ],
      "metadata": {
        "colab": {
          "base_uri": "https://localhost:8080/"
        },
        "id": "SQ-nnG09yazM",
        "outputId": "7a4e955f-309a-4c08-bcc3-c0d91ca16f84"
      },
      "execution_count": 12,
      "outputs": [
        {
          "output_type": "stream",
          "name": "stdout",
          "text": [
            "<class 'pandas.core.frame.DataFrame'>\n",
            "RangeIndex: 5110 entries, 0 to 5109\n",
            "Data columns (total 12 columns):\n",
            " #   Column               Non-Null Count  Dtype  \n",
            "---  ------               --------------  -----  \n",
            " 0   \"id\"                 5110 non-null   float64\n",
            " 1   \"gender\"             5110 non-null   object \n",
            " 2   \"age\"                5110 non-null   float64\n",
            " 3   \"hypertension\"       5110 non-null   object \n",
            " 4   \"heart_disease\"      5110 non-null   object \n",
            " 5   \"ever_married\"       5110 non-null   object \n",
            " 6   \"work_type\"          5110 non-null   object \n",
            " 7   \"residence_type\"     5110 non-null   object \n",
            " 8   \"avg_glucose_level\"  5110 non-null   float64\n",
            " 9   \"bmi\"                4909 non-null   float64\n",
            " 10  \"smoking_status\"     5110 non-null   object \n",
            " 11  \"stroke\"             5110 non-null   object \n",
            "dtypes: float64(4), object(8)\n",
            "memory usage: 479.2+ KB\n"
          ]
        }
      ]
    },
    {
      "cell_type": "code",
      "source": [
        "# Remove records with NAs from dataset\n",
        "df_noNA = df\n",
        "df_noNA = df_noNA.dropna()\n",
        "df_noNA.head(10)"
      ],
      "metadata": {
        "colab": {
          "base_uri": "https://localhost:8080/",
          "height": 444
        },
        "id": "PcBKG7pe7AN5",
        "outputId": "6bf09c28-68e1-4cd9-866c-d3ec644595ef"
      },
      "execution_count": 13,
      "outputs": [
        {
          "output_type": "execute_result",
          "data": {
            "text/plain": [
              "       \"id\" \"gender\"  \"age\" \"hypertension\" \"heart_disease\" \"ever_married\"  \\\n",
              "0    9046.0     Male   67.0              0               1            Yes   \n",
              "2   31112.0     Male   80.0              0               1            Yes   \n",
              "3   60182.0   Female   49.0              0               0            Yes   \n",
              "4    1665.0   Female   79.0              1               0            Yes   \n",
              "5   56669.0     Male   81.0              0               0            Yes   \n",
              "6   53882.0     Male   74.0              1               1            Yes   \n",
              "7   10434.0   Female   69.0              0               0             No   \n",
              "9   60491.0   Female   78.0              0               0            Yes   \n",
              "10  12109.0   Female   81.0              1               0            Yes   \n",
              "11  12095.0   Female   61.0              0               1            Yes   \n",
              "\n",
              "      \"work_type\" \"residence_type\"  \"avg_glucose_level\"  \"bmi\"  \\\n",
              "0         Private            Urban               228.69   36.6   \n",
              "2         Private            Rural               105.92   32.5   \n",
              "3         Private            Urban               171.23   34.4   \n",
              "4   Self-employed            Rural               174.12   24.0   \n",
              "5         Private            Urban               186.21   29.0   \n",
              "6         Private            Rural                70.09   27.4   \n",
              "7         Private            Urban                94.39   22.8   \n",
              "9         Private            Urban                58.57   24.2   \n",
              "10        Private            Rural                80.43   29.7   \n",
              "11       Govt_job            Rural               120.46   36.8   \n",
              "\n",
              "   \"smoking_status\" \"stroke\"  \n",
              "0   formerly smoked        1  \n",
              "2      never smoked        1  \n",
              "3            smokes        1  \n",
              "4      never smoked        1  \n",
              "5   formerly smoked        1  \n",
              "6      never smoked        1  \n",
              "7      never smoked        1  \n",
              "9           Unknown        1  \n",
              "10     never smoked        1  \n",
              "11           smokes        1  "
            ],
            "text/html": [
              "\n",
              "  <div id=\"df-d490eb90-cec2-4d49-875a-882c80deafad\">\n",
              "    <div class=\"colab-df-container\">\n",
              "      <div>\n",
              "<style scoped>\n",
              "    .dataframe tbody tr th:only-of-type {\n",
              "        vertical-align: middle;\n",
              "    }\n",
              "\n",
              "    .dataframe tbody tr th {\n",
              "        vertical-align: top;\n",
              "    }\n",
              "\n",
              "    .dataframe thead th {\n",
              "        text-align: right;\n",
              "    }\n",
              "</style>\n",
              "<table border=\"1\" class=\"dataframe\">\n",
              "  <thead>\n",
              "    <tr style=\"text-align: right;\">\n",
              "      <th></th>\n",
              "      <th>\"id\"</th>\n",
              "      <th>\"gender\"</th>\n",
              "      <th>\"age\"</th>\n",
              "      <th>\"hypertension\"</th>\n",
              "      <th>\"heart_disease\"</th>\n",
              "      <th>\"ever_married\"</th>\n",
              "      <th>\"work_type\"</th>\n",
              "      <th>\"residence_type\"</th>\n",
              "      <th>\"avg_glucose_level\"</th>\n",
              "      <th>\"bmi\"</th>\n",
              "      <th>\"smoking_status\"</th>\n",
              "      <th>\"stroke\"</th>\n",
              "    </tr>\n",
              "  </thead>\n",
              "  <tbody>\n",
              "    <tr>\n",
              "      <th>0</th>\n",
              "      <td>9046.0</td>\n",
              "      <td>Male</td>\n",
              "      <td>67.0</td>\n",
              "      <td>0</td>\n",
              "      <td>1</td>\n",
              "      <td>Yes</td>\n",
              "      <td>Private</td>\n",
              "      <td>Urban</td>\n",
              "      <td>228.69</td>\n",
              "      <td>36.6</td>\n",
              "      <td>formerly smoked</td>\n",
              "      <td>1</td>\n",
              "    </tr>\n",
              "    <tr>\n",
              "      <th>2</th>\n",
              "      <td>31112.0</td>\n",
              "      <td>Male</td>\n",
              "      <td>80.0</td>\n",
              "      <td>0</td>\n",
              "      <td>1</td>\n",
              "      <td>Yes</td>\n",
              "      <td>Private</td>\n",
              "      <td>Rural</td>\n",
              "      <td>105.92</td>\n",
              "      <td>32.5</td>\n",
              "      <td>never smoked</td>\n",
              "      <td>1</td>\n",
              "    </tr>\n",
              "    <tr>\n",
              "      <th>3</th>\n",
              "      <td>60182.0</td>\n",
              "      <td>Female</td>\n",
              "      <td>49.0</td>\n",
              "      <td>0</td>\n",
              "      <td>0</td>\n",
              "      <td>Yes</td>\n",
              "      <td>Private</td>\n",
              "      <td>Urban</td>\n",
              "      <td>171.23</td>\n",
              "      <td>34.4</td>\n",
              "      <td>smokes</td>\n",
              "      <td>1</td>\n",
              "    </tr>\n",
              "    <tr>\n",
              "      <th>4</th>\n",
              "      <td>1665.0</td>\n",
              "      <td>Female</td>\n",
              "      <td>79.0</td>\n",
              "      <td>1</td>\n",
              "      <td>0</td>\n",
              "      <td>Yes</td>\n",
              "      <td>Self-employed</td>\n",
              "      <td>Rural</td>\n",
              "      <td>174.12</td>\n",
              "      <td>24.0</td>\n",
              "      <td>never smoked</td>\n",
              "      <td>1</td>\n",
              "    </tr>\n",
              "    <tr>\n",
              "      <th>5</th>\n",
              "      <td>56669.0</td>\n",
              "      <td>Male</td>\n",
              "      <td>81.0</td>\n",
              "      <td>0</td>\n",
              "      <td>0</td>\n",
              "      <td>Yes</td>\n",
              "      <td>Private</td>\n",
              "      <td>Urban</td>\n",
              "      <td>186.21</td>\n",
              "      <td>29.0</td>\n",
              "      <td>formerly smoked</td>\n",
              "      <td>1</td>\n",
              "    </tr>\n",
              "    <tr>\n",
              "      <th>6</th>\n",
              "      <td>53882.0</td>\n",
              "      <td>Male</td>\n",
              "      <td>74.0</td>\n",
              "      <td>1</td>\n",
              "      <td>1</td>\n",
              "      <td>Yes</td>\n",
              "      <td>Private</td>\n",
              "      <td>Rural</td>\n",
              "      <td>70.09</td>\n",
              "      <td>27.4</td>\n",
              "      <td>never smoked</td>\n",
              "      <td>1</td>\n",
              "    </tr>\n",
              "    <tr>\n",
              "      <th>7</th>\n",
              "      <td>10434.0</td>\n",
              "      <td>Female</td>\n",
              "      <td>69.0</td>\n",
              "      <td>0</td>\n",
              "      <td>0</td>\n",
              "      <td>No</td>\n",
              "      <td>Private</td>\n",
              "      <td>Urban</td>\n",
              "      <td>94.39</td>\n",
              "      <td>22.8</td>\n",
              "      <td>never smoked</td>\n",
              "      <td>1</td>\n",
              "    </tr>\n",
              "    <tr>\n",
              "      <th>9</th>\n",
              "      <td>60491.0</td>\n",
              "      <td>Female</td>\n",
              "      <td>78.0</td>\n",
              "      <td>0</td>\n",
              "      <td>0</td>\n",
              "      <td>Yes</td>\n",
              "      <td>Private</td>\n",
              "      <td>Urban</td>\n",
              "      <td>58.57</td>\n",
              "      <td>24.2</td>\n",
              "      <td>Unknown</td>\n",
              "      <td>1</td>\n",
              "    </tr>\n",
              "    <tr>\n",
              "      <th>10</th>\n",
              "      <td>12109.0</td>\n",
              "      <td>Female</td>\n",
              "      <td>81.0</td>\n",
              "      <td>1</td>\n",
              "      <td>0</td>\n",
              "      <td>Yes</td>\n",
              "      <td>Private</td>\n",
              "      <td>Rural</td>\n",
              "      <td>80.43</td>\n",
              "      <td>29.7</td>\n",
              "      <td>never smoked</td>\n",
              "      <td>1</td>\n",
              "    </tr>\n",
              "    <tr>\n",
              "      <th>11</th>\n",
              "      <td>12095.0</td>\n",
              "      <td>Female</td>\n",
              "      <td>61.0</td>\n",
              "      <td>0</td>\n",
              "      <td>1</td>\n",
              "      <td>Yes</td>\n",
              "      <td>Govt_job</td>\n",
              "      <td>Rural</td>\n",
              "      <td>120.46</td>\n",
              "      <td>36.8</td>\n",
              "      <td>smokes</td>\n",
              "      <td>1</td>\n",
              "    </tr>\n",
              "  </tbody>\n",
              "</table>\n",
              "</div>\n",
              "      <button class=\"colab-df-convert\" onclick=\"convertToInteractive('df-d490eb90-cec2-4d49-875a-882c80deafad')\"\n",
              "              title=\"Convert this dataframe to an interactive table.\"\n",
              "              style=\"display:none;\">\n",
              "        \n",
              "  <svg xmlns=\"http://www.w3.org/2000/svg\" height=\"24px\"viewBox=\"0 0 24 24\"\n",
              "       width=\"24px\">\n",
              "    <path d=\"M0 0h24v24H0V0z\" fill=\"none\"/>\n",
              "    <path d=\"M18.56 5.44l.94 2.06.94-2.06 2.06-.94-2.06-.94-.94-2.06-.94 2.06-2.06.94zm-11 1L8.5 8.5l.94-2.06 2.06-.94-2.06-.94L8.5 2.5l-.94 2.06-2.06.94zm10 10l.94 2.06.94-2.06 2.06-.94-2.06-.94-.94-2.06-.94 2.06-2.06.94z\"/><path d=\"M17.41 7.96l-1.37-1.37c-.4-.4-.92-.59-1.43-.59-.52 0-1.04.2-1.43.59L10.3 9.45l-7.72 7.72c-.78.78-.78 2.05 0 2.83L4 21.41c.39.39.9.59 1.41.59.51 0 1.02-.2 1.41-.59l7.78-7.78 2.81-2.81c.8-.78.8-2.07 0-2.86zM5.41 20L4 18.59l7.72-7.72 1.47 1.35L5.41 20z\"/>\n",
              "  </svg>\n",
              "      </button>\n",
              "      \n",
              "  <style>\n",
              "    .colab-df-container {\n",
              "      display:flex;\n",
              "      flex-wrap:wrap;\n",
              "      gap: 12px;\n",
              "    }\n",
              "\n",
              "    .colab-df-convert {\n",
              "      background-color: #E8F0FE;\n",
              "      border: none;\n",
              "      border-radius: 50%;\n",
              "      cursor: pointer;\n",
              "      display: none;\n",
              "      fill: #1967D2;\n",
              "      height: 32px;\n",
              "      padding: 0 0 0 0;\n",
              "      width: 32px;\n",
              "    }\n",
              "\n",
              "    .colab-df-convert:hover {\n",
              "      background-color: #E2EBFA;\n",
              "      box-shadow: 0px 1px 2px rgba(60, 64, 67, 0.3), 0px 1px 3px 1px rgba(60, 64, 67, 0.15);\n",
              "      fill: #174EA6;\n",
              "    }\n",
              "\n",
              "    [theme=dark] .colab-df-convert {\n",
              "      background-color: #3B4455;\n",
              "      fill: #D2E3FC;\n",
              "    }\n",
              "\n",
              "    [theme=dark] .colab-df-convert:hover {\n",
              "      background-color: #434B5C;\n",
              "      box-shadow: 0px 1px 3px 1px rgba(0, 0, 0, 0.15);\n",
              "      filter: drop-shadow(0px 1px 2px rgba(0, 0, 0, 0.3));\n",
              "      fill: #FFFFFF;\n",
              "    }\n",
              "  </style>\n",
              "\n",
              "      <script>\n",
              "        const buttonEl =\n",
              "          document.querySelector('#df-d490eb90-cec2-4d49-875a-882c80deafad button.colab-df-convert');\n",
              "        buttonEl.style.display =\n",
              "          google.colab.kernel.accessAllowed ? 'block' : 'none';\n",
              "\n",
              "        async function convertToInteractive(key) {\n",
              "          const element = document.querySelector('#df-d490eb90-cec2-4d49-875a-882c80deafad');\n",
              "          const dataTable =\n",
              "            await google.colab.kernel.invokeFunction('convertToInteractive',\n",
              "                                                     [key], {});\n",
              "          if (!dataTable) return;\n",
              "\n",
              "          const docLinkHtml = 'Like what you see? Visit the ' +\n",
              "            '<a target=\"_blank\" href=https://colab.research.google.com/notebooks/data_table.ipynb>data table notebook</a>'\n",
              "            + ' to learn more about interactive tables.';\n",
              "          element.innerHTML = '';\n",
              "          dataTable['output_type'] = 'display_data';\n",
              "          await google.colab.output.renderOutput(dataTable, element);\n",
              "          const docLink = document.createElement('div');\n",
              "          docLink.innerHTML = docLinkHtml;\n",
              "          element.appendChild(docLink);\n",
              "        }\n",
              "      </script>\n",
              "    </div>\n",
              "  </div>\n",
              "  "
            ]
          },
          "metadata": {},
          "execution_count": 13
        }
      ]
    },
    {
      "cell_type": "code",
      "source": [
        "# See if data is imbalanced on the variable of interest, stroke\n",
        "# Count how many '1's (stroke) and '0's (no stroke) appear\n",
        "print(df_noNA['\"stroke\"'].value_counts())\n",
        "# Dataset is quite unbalanced on the stroke variable\n",
        "# Around 209/(4700+209) = 4.3% of dataset is positive for stroke"
      ],
      "metadata": {
        "colab": {
          "base_uri": "https://localhost:8080/"
        },
        "id": "VRV4hYN4OD7q",
        "outputId": "fd0d914b-47e1-492d-9e62-8284359c3b56"
      },
      "execution_count": 14,
      "outputs": [
        {
          "output_type": "stream",
          "name": "stdout",
          "text": [
            "0    4700\n",
            "1     209\n",
            "Name: \"stroke\", dtype: int64\n"
          ]
        }
      ]
    },
    {
      "cell_type": "code",
      "source": [
        "# Change 'stroke' attribute into data type float\n",
        "df_noNA['\"stroke\"'] = df_noNA['\"stroke\"'].astype(float)\n",
        "df_noNA.head(10)"
      ],
      "metadata": {
        "colab": {
          "base_uri": "https://localhost:8080/",
          "height": 548
        },
        "id": "2JpoY_bW94Sq",
        "outputId": "bdfedbcd-2bb3-4b71-e3fb-e0b71b20d721"
      },
      "execution_count": 15,
      "outputs": [
        {
          "output_type": "stream",
          "name": "stderr",
          "text": [
            "/usr/local/lib/python3.7/dist-packages/ipykernel_launcher.py:2: SettingWithCopyWarning: \n",
            "A value is trying to be set on a copy of a slice from a DataFrame.\n",
            "Try using .loc[row_indexer,col_indexer] = value instead\n",
            "\n",
            "See the caveats in the documentation: https://pandas.pydata.org/pandas-docs/stable/user_guide/indexing.html#returning-a-view-versus-a-copy\n",
            "  \n"
          ]
        },
        {
          "output_type": "execute_result",
          "data": {
            "text/plain": [
              "       \"id\" \"gender\"  \"age\" \"hypertension\" \"heart_disease\" \"ever_married\"  \\\n",
              "0    9046.0     Male   67.0              0               1            Yes   \n",
              "2   31112.0     Male   80.0              0               1            Yes   \n",
              "3   60182.0   Female   49.0              0               0            Yes   \n",
              "4    1665.0   Female   79.0              1               0            Yes   \n",
              "5   56669.0     Male   81.0              0               0            Yes   \n",
              "6   53882.0     Male   74.0              1               1            Yes   \n",
              "7   10434.0   Female   69.0              0               0             No   \n",
              "9   60491.0   Female   78.0              0               0            Yes   \n",
              "10  12109.0   Female   81.0              1               0            Yes   \n",
              "11  12095.0   Female   61.0              0               1            Yes   \n",
              "\n",
              "      \"work_type\" \"residence_type\"  \"avg_glucose_level\"  \"bmi\"  \\\n",
              "0         Private            Urban               228.69   36.6   \n",
              "2         Private            Rural               105.92   32.5   \n",
              "3         Private            Urban               171.23   34.4   \n",
              "4   Self-employed            Rural               174.12   24.0   \n",
              "5         Private            Urban               186.21   29.0   \n",
              "6         Private            Rural                70.09   27.4   \n",
              "7         Private            Urban                94.39   22.8   \n",
              "9         Private            Urban                58.57   24.2   \n",
              "10        Private            Rural                80.43   29.7   \n",
              "11       Govt_job            Rural               120.46   36.8   \n",
              "\n",
              "   \"smoking_status\"  \"stroke\"  \n",
              "0   formerly smoked       1.0  \n",
              "2      never smoked       1.0  \n",
              "3            smokes       1.0  \n",
              "4      never smoked       1.0  \n",
              "5   formerly smoked       1.0  \n",
              "6      never smoked       1.0  \n",
              "7      never smoked       1.0  \n",
              "9           Unknown       1.0  \n",
              "10     never smoked       1.0  \n",
              "11           smokes       1.0  "
            ],
            "text/html": [
              "\n",
              "  <div id=\"df-03ac29bc-cf45-4b73-badb-3f9035170816\">\n",
              "    <div class=\"colab-df-container\">\n",
              "      <div>\n",
              "<style scoped>\n",
              "    .dataframe tbody tr th:only-of-type {\n",
              "        vertical-align: middle;\n",
              "    }\n",
              "\n",
              "    .dataframe tbody tr th {\n",
              "        vertical-align: top;\n",
              "    }\n",
              "\n",
              "    .dataframe thead th {\n",
              "        text-align: right;\n",
              "    }\n",
              "</style>\n",
              "<table border=\"1\" class=\"dataframe\">\n",
              "  <thead>\n",
              "    <tr style=\"text-align: right;\">\n",
              "      <th></th>\n",
              "      <th>\"id\"</th>\n",
              "      <th>\"gender\"</th>\n",
              "      <th>\"age\"</th>\n",
              "      <th>\"hypertension\"</th>\n",
              "      <th>\"heart_disease\"</th>\n",
              "      <th>\"ever_married\"</th>\n",
              "      <th>\"work_type\"</th>\n",
              "      <th>\"residence_type\"</th>\n",
              "      <th>\"avg_glucose_level\"</th>\n",
              "      <th>\"bmi\"</th>\n",
              "      <th>\"smoking_status\"</th>\n",
              "      <th>\"stroke\"</th>\n",
              "    </tr>\n",
              "  </thead>\n",
              "  <tbody>\n",
              "    <tr>\n",
              "      <th>0</th>\n",
              "      <td>9046.0</td>\n",
              "      <td>Male</td>\n",
              "      <td>67.0</td>\n",
              "      <td>0</td>\n",
              "      <td>1</td>\n",
              "      <td>Yes</td>\n",
              "      <td>Private</td>\n",
              "      <td>Urban</td>\n",
              "      <td>228.69</td>\n",
              "      <td>36.6</td>\n",
              "      <td>formerly smoked</td>\n",
              "      <td>1.0</td>\n",
              "    </tr>\n",
              "    <tr>\n",
              "      <th>2</th>\n",
              "      <td>31112.0</td>\n",
              "      <td>Male</td>\n",
              "      <td>80.0</td>\n",
              "      <td>0</td>\n",
              "      <td>1</td>\n",
              "      <td>Yes</td>\n",
              "      <td>Private</td>\n",
              "      <td>Rural</td>\n",
              "      <td>105.92</td>\n",
              "      <td>32.5</td>\n",
              "      <td>never smoked</td>\n",
              "      <td>1.0</td>\n",
              "    </tr>\n",
              "    <tr>\n",
              "      <th>3</th>\n",
              "      <td>60182.0</td>\n",
              "      <td>Female</td>\n",
              "      <td>49.0</td>\n",
              "      <td>0</td>\n",
              "      <td>0</td>\n",
              "      <td>Yes</td>\n",
              "      <td>Private</td>\n",
              "      <td>Urban</td>\n",
              "      <td>171.23</td>\n",
              "      <td>34.4</td>\n",
              "      <td>smokes</td>\n",
              "      <td>1.0</td>\n",
              "    </tr>\n",
              "    <tr>\n",
              "      <th>4</th>\n",
              "      <td>1665.0</td>\n",
              "      <td>Female</td>\n",
              "      <td>79.0</td>\n",
              "      <td>1</td>\n",
              "      <td>0</td>\n",
              "      <td>Yes</td>\n",
              "      <td>Self-employed</td>\n",
              "      <td>Rural</td>\n",
              "      <td>174.12</td>\n",
              "      <td>24.0</td>\n",
              "      <td>never smoked</td>\n",
              "      <td>1.0</td>\n",
              "    </tr>\n",
              "    <tr>\n",
              "      <th>5</th>\n",
              "      <td>56669.0</td>\n",
              "      <td>Male</td>\n",
              "      <td>81.0</td>\n",
              "      <td>0</td>\n",
              "      <td>0</td>\n",
              "      <td>Yes</td>\n",
              "      <td>Private</td>\n",
              "      <td>Urban</td>\n",
              "      <td>186.21</td>\n",
              "      <td>29.0</td>\n",
              "      <td>formerly smoked</td>\n",
              "      <td>1.0</td>\n",
              "    </tr>\n",
              "    <tr>\n",
              "      <th>6</th>\n",
              "      <td>53882.0</td>\n",
              "      <td>Male</td>\n",
              "      <td>74.0</td>\n",
              "      <td>1</td>\n",
              "      <td>1</td>\n",
              "      <td>Yes</td>\n",
              "      <td>Private</td>\n",
              "      <td>Rural</td>\n",
              "      <td>70.09</td>\n",
              "      <td>27.4</td>\n",
              "      <td>never smoked</td>\n",
              "      <td>1.0</td>\n",
              "    </tr>\n",
              "    <tr>\n",
              "      <th>7</th>\n",
              "      <td>10434.0</td>\n",
              "      <td>Female</td>\n",
              "      <td>69.0</td>\n",
              "      <td>0</td>\n",
              "      <td>0</td>\n",
              "      <td>No</td>\n",
              "      <td>Private</td>\n",
              "      <td>Urban</td>\n",
              "      <td>94.39</td>\n",
              "      <td>22.8</td>\n",
              "      <td>never smoked</td>\n",
              "      <td>1.0</td>\n",
              "    </tr>\n",
              "    <tr>\n",
              "      <th>9</th>\n",
              "      <td>60491.0</td>\n",
              "      <td>Female</td>\n",
              "      <td>78.0</td>\n",
              "      <td>0</td>\n",
              "      <td>0</td>\n",
              "      <td>Yes</td>\n",
              "      <td>Private</td>\n",
              "      <td>Urban</td>\n",
              "      <td>58.57</td>\n",
              "      <td>24.2</td>\n",
              "      <td>Unknown</td>\n",
              "      <td>1.0</td>\n",
              "    </tr>\n",
              "    <tr>\n",
              "      <th>10</th>\n",
              "      <td>12109.0</td>\n",
              "      <td>Female</td>\n",
              "      <td>81.0</td>\n",
              "      <td>1</td>\n",
              "      <td>0</td>\n",
              "      <td>Yes</td>\n",
              "      <td>Private</td>\n",
              "      <td>Rural</td>\n",
              "      <td>80.43</td>\n",
              "      <td>29.7</td>\n",
              "      <td>never smoked</td>\n",
              "      <td>1.0</td>\n",
              "    </tr>\n",
              "    <tr>\n",
              "      <th>11</th>\n",
              "      <td>12095.0</td>\n",
              "      <td>Female</td>\n",
              "      <td>61.0</td>\n",
              "      <td>0</td>\n",
              "      <td>1</td>\n",
              "      <td>Yes</td>\n",
              "      <td>Govt_job</td>\n",
              "      <td>Rural</td>\n",
              "      <td>120.46</td>\n",
              "      <td>36.8</td>\n",
              "      <td>smokes</td>\n",
              "      <td>1.0</td>\n",
              "    </tr>\n",
              "  </tbody>\n",
              "</table>\n",
              "</div>\n",
              "      <button class=\"colab-df-convert\" onclick=\"convertToInteractive('df-03ac29bc-cf45-4b73-badb-3f9035170816')\"\n",
              "              title=\"Convert this dataframe to an interactive table.\"\n",
              "              style=\"display:none;\">\n",
              "        \n",
              "  <svg xmlns=\"http://www.w3.org/2000/svg\" height=\"24px\"viewBox=\"0 0 24 24\"\n",
              "       width=\"24px\">\n",
              "    <path d=\"M0 0h24v24H0V0z\" fill=\"none\"/>\n",
              "    <path d=\"M18.56 5.44l.94 2.06.94-2.06 2.06-.94-2.06-.94-.94-2.06-.94 2.06-2.06.94zm-11 1L8.5 8.5l.94-2.06 2.06-.94-2.06-.94L8.5 2.5l-.94 2.06-2.06.94zm10 10l.94 2.06.94-2.06 2.06-.94-2.06-.94-.94-2.06-.94 2.06-2.06.94z\"/><path d=\"M17.41 7.96l-1.37-1.37c-.4-.4-.92-.59-1.43-.59-.52 0-1.04.2-1.43.59L10.3 9.45l-7.72 7.72c-.78.78-.78 2.05 0 2.83L4 21.41c.39.39.9.59 1.41.59.51 0 1.02-.2 1.41-.59l7.78-7.78 2.81-2.81c.8-.78.8-2.07 0-2.86zM5.41 20L4 18.59l7.72-7.72 1.47 1.35L5.41 20z\"/>\n",
              "  </svg>\n",
              "      </button>\n",
              "      \n",
              "  <style>\n",
              "    .colab-df-container {\n",
              "      display:flex;\n",
              "      flex-wrap:wrap;\n",
              "      gap: 12px;\n",
              "    }\n",
              "\n",
              "    .colab-df-convert {\n",
              "      background-color: #E8F0FE;\n",
              "      border: none;\n",
              "      border-radius: 50%;\n",
              "      cursor: pointer;\n",
              "      display: none;\n",
              "      fill: #1967D2;\n",
              "      height: 32px;\n",
              "      padding: 0 0 0 0;\n",
              "      width: 32px;\n",
              "    }\n",
              "\n",
              "    .colab-df-convert:hover {\n",
              "      background-color: #E2EBFA;\n",
              "      box-shadow: 0px 1px 2px rgba(60, 64, 67, 0.3), 0px 1px 3px 1px rgba(60, 64, 67, 0.15);\n",
              "      fill: #174EA6;\n",
              "    }\n",
              "\n",
              "    [theme=dark] .colab-df-convert {\n",
              "      background-color: #3B4455;\n",
              "      fill: #D2E3FC;\n",
              "    }\n",
              "\n",
              "    [theme=dark] .colab-df-convert:hover {\n",
              "      background-color: #434B5C;\n",
              "      box-shadow: 0px 1px 3px 1px rgba(0, 0, 0, 0.15);\n",
              "      filter: drop-shadow(0px 1px 2px rgba(0, 0, 0, 0.3));\n",
              "      fill: #FFFFFF;\n",
              "    }\n",
              "  </style>\n",
              "\n",
              "      <script>\n",
              "        const buttonEl =\n",
              "          document.querySelector('#df-03ac29bc-cf45-4b73-badb-3f9035170816 button.colab-df-convert');\n",
              "        buttonEl.style.display =\n",
              "          google.colab.kernel.accessAllowed ? 'block' : 'none';\n",
              "\n",
              "        async function convertToInteractive(key) {\n",
              "          const element = document.querySelector('#df-03ac29bc-cf45-4b73-badb-3f9035170816');\n",
              "          const dataTable =\n",
              "            await google.colab.kernel.invokeFunction('convertToInteractive',\n",
              "                                                     [key], {});\n",
              "          if (!dataTable) return;\n",
              "\n",
              "          const docLinkHtml = 'Like what you see? Visit the ' +\n",
              "            '<a target=\"_blank\" href=https://colab.research.google.com/notebooks/data_table.ipynb>data table notebook</a>'\n",
              "            + ' to learn more about interactive tables.';\n",
              "          element.innerHTML = '';\n",
              "          dataTable['output_type'] = 'display_data';\n",
              "          await google.colab.output.renderOutput(dataTable, element);\n",
              "          const docLink = document.createElement('div');\n",
              "          docLink.innerHTML = docLinkHtml;\n",
              "          element.appendChild(docLink);\n",
              "        }\n",
              "      </script>\n",
              "    </div>\n",
              "  </div>\n",
              "  "
            ]
          },
          "metadata": {},
          "execution_count": 15
        }
      ]
    },
    {
      "cell_type": "code",
      "source": [
        "print(df_noNA.dtypes)"
      ],
      "metadata": {
        "colab": {
          "base_uri": "https://localhost:8080/"
        },
        "id": "kxOzrL3QkU1y",
        "outputId": "d0bf5560-c9e6-4dc1-96bf-825354f4a75e"
      },
      "execution_count": 16,
      "outputs": [
        {
          "output_type": "stream",
          "name": "stdout",
          "text": [
            "\"id\"                   float64\n",
            "\"gender\"                object\n",
            "\"age\"                  float64\n",
            "\"hypertension\"          object\n",
            "\"heart_disease\"         object\n",
            "\"ever_married\"          object\n",
            "\"work_type\"             object\n",
            "\"residence_type\"        object\n",
            "\"avg_glucose_level\"    float64\n",
            "\"bmi\"                  float64\n",
            "\"smoking_status\"        object\n",
            "\"stroke\"               float64\n",
            "dtype: object\n"
          ]
        }
      ]
    },
    {
      "cell_type": "code",
      "source": [
        " # See if there are any extreme values in numeric data\n",
        " df_noNA.describe()"
      ],
      "metadata": {
        "colab": {
          "base_uri": "https://localhost:8080/",
          "height": 300
        },
        "id": "Ou1F9aB6yhyi",
        "outputId": "ce598bc7-d895-478a-c0f3-070e6231448c"
      },
      "execution_count": 17,
      "outputs": [
        {
          "output_type": "execute_result",
          "data": {
            "text/plain": [
              "               \"id\"        \"age\"  \"avg_glucose_level\"        \"bmi\"  \\\n",
              "count   4909.000000  4909.000000          4909.000000  4909.000000   \n",
              "mean   37064.313506    42.865374           105.305150    28.893237   \n",
              "std    20995.098457    22.555115            44.424341     7.854067   \n",
              "min       77.000000     0.080000            55.120000    10.300000   \n",
              "25%    18605.000000    25.000000            77.070000    23.500000   \n",
              "50%    37608.000000    44.000000            91.680000    28.100000   \n",
              "75%    55220.000000    60.000000           113.570000    33.100000   \n",
              "max    72940.000000    82.000000           271.740000    97.600000   \n",
              "\n",
              "          \"stroke\"  \n",
              "count  4909.000000  \n",
              "mean      0.042575  \n",
              "std       0.201917  \n",
              "min       0.000000  \n",
              "25%       0.000000  \n",
              "50%       0.000000  \n",
              "75%       0.000000  \n",
              "max       1.000000  "
            ],
            "text/html": [
              "\n",
              "  <div id=\"df-d19ed49c-9fa6-4815-9e24-407c99e143a1\">\n",
              "    <div class=\"colab-df-container\">\n",
              "      <div>\n",
              "<style scoped>\n",
              "    .dataframe tbody tr th:only-of-type {\n",
              "        vertical-align: middle;\n",
              "    }\n",
              "\n",
              "    .dataframe tbody tr th {\n",
              "        vertical-align: top;\n",
              "    }\n",
              "\n",
              "    .dataframe thead th {\n",
              "        text-align: right;\n",
              "    }\n",
              "</style>\n",
              "<table border=\"1\" class=\"dataframe\">\n",
              "  <thead>\n",
              "    <tr style=\"text-align: right;\">\n",
              "      <th></th>\n",
              "      <th>\"id\"</th>\n",
              "      <th>\"age\"</th>\n",
              "      <th>\"avg_glucose_level\"</th>\n",
              "      <th>\"bmi\"</th>\n",
              "      <th>\"stroke\"</th>\n",
              "    </tr>\n",
              "  </thead>\n",
              "  <tbody>\n",
              "    <tr>\n",
              "      <th>count</th>\n",
              "      <td>4909.000000</td>\n",
              "      <td>4909.000000</td>\n",
              "      <td>4909.000000</td>\n",
              "      <td>4909.000000</td>\n",
              "      <td>4909.000000</td>\n",
              "    </tr>\n",
              "    <tr>\n",
              "      <th>mean</th>\n",
              "      <td>37064.313506</td>\n",
              "      <td>42.865374</td>\n",
              "      <td>105.305150</td>\n",
              "      <td>28.893237</td>\n",
              "      <td>0.042575</td>\n",
              "    </tr>\n",
              "    <tr>\n",
              "      <th>std</th>\n",
              "      <td>20995.098457</td>\n",
              "      <td>22.555115</td>\n",
              "      <td>44.424341</td>\n",
              "      <td>7.854067</td>\n",
              "      <td>0.201917</td>\n",
              "    </tr>\n",
              "    <tr>\n",
              "      <th>min</th>\n",
              "      <td>77.000000</td>\n",
              "      <td>0.080000</td>\n",
              "      <td>55.120000</td>\n",
              "      <td>10.300000</td>\n",
              "      <td>0.000000</td>\n",
              "    </tr>\n",
              "    <tr>\n",
              "      <th>25%</th>\n",
              "      <td>18605.000000</td>\n",
              "      <td>25.000000</td>\n",
              "      <td>77.070000</td>\n",
              "      <td>23.500000</td>\n",
              "      <td>0.000000</td>\n",
              "    </tr>\n",
              "    <tr>\n",
              "      <th>50%</th>\n",
              "      <td>37608.000000</td>\n",
              "      <td>44.000000</td>\n",
              "      <td>91.680000</td>\n",
              "      <td>28.100000</td>\n",
              "      <td>0.000000</td>\n",
              "    </tr>\n",
              "    <tr>\n",
              "      <th>75%</th>\n",
              "      <td>55220.000000</td>\n",
              "      <td>60.000000</td>\n",
              "      <td>113.570000</td>\n",
              "      <td>33.100000</td>\n",
              "      <td>0.000000</td>\n",
              "    </tr>\n",
              "    <tr>\n",
              "      <th>max</th>\n",
              "      <td>72940.000000</td>\n",
              "      <td>82.000000</td>\n",
              "      <td>271.740000</td>\n",
              "      <td>97.600000</td>\n",
              "      <td>1.000000</td>\n",
              "    </tr>\n",
              "  </tbody>\n",
              "</table>\n",
              "</div>\n",
              "      <button class=\"colab-df-convert\" onclick=\"convertToInteractive('df-d19ed49c-9fa6-4815-9e24-407c99e143a1')\"\n",
              "              title=\"Convert this dataframe to an interactive table.\"\n",
              "              style=\"display:none;\">\n",
              "        \n",
              "  <svg xmlns=\"http://www.w3.org/2000/svg\" height=\"24px\"viewBox=\"0 0 24 24\"\n",
              "       width=\"24px\">\n",
              "    <path d=\"M0 0h24v24H0V0z\" fill=\"none\"/>\n",
              "    <path d=\"M18.56 5.44l.94 2.06.94-2.06 2.06-.94-2.06-.94-.94-2.06-.94 2.06-2.06.94zm-11 1L8.5 8.5l.94-2.06 2.06-.94-2.06-.94L8.5 2.5l-.94 2.06-2.06.94zm10 10l.94 2.06.94-2.06 2.06-.94-2.06-.94-.94-2.06-.94 2.06-2.06.94z\"/><path d=\"M17.41 7.96l-1.37-1.37c-.4-.4-.92-.59-1.43-.59-.52 0-1.04.2-1.43.59L10.3 9.45l-7.72 7.72c-.78.78-.78 2.05 0 2.83L4 21.41c.39.39.9.59 1.41.59.51 0 1.02-.2 1.41-.59l7.78-7.78 2.81-2.81c.8-.78.8-2.07 0-2.86zM5.41 20L4 18.59l7.72-7.72 1.47 1.35L5.41 20z\"/>\n",
              "  </svg>\n",
              "      </button>\n",
              "      \n",
              "  <style>\n",
              "    .colab-df-container {\n",
              "      display:flex;\n",
              "      flex-wrap:wrap;\n",
              "      gap: 12px;\n",
              "    }\n",
              "\n",
              "    .colab-df-convert {\n",
              "      background-color: #E8F0FE;\n",
              "      border: none;\n",
              "      border-radius: 50%;\n",
              "      cursor: pointer;\n",
              "      display: none;\n",
              "      fill: #1967D2;\n",
              "      height: 32px;\n",
              "      padding: 0 0 0 0;\n",
              "      width: 32px;\n",
              "    }\n",
              "\n",
              "    .colab-df-convert:hover {\n",
              "      background-color: #E2EBFA;\n",
              "      box-shadow: 0px 1px 2px rgba(60, 64, 67, 0.3), 0px 1px 3px 1px rgba(60, 64, 67, 0.15);\n",
              "      fill: #174EA6;\n",
              "    }\n",
              "\n",
              "    [theme=dark] .colab-df-convert {\n",
              "      background-color: #3B4455;\n",
              "      fill: #D2E3FC;\n",
              "    }\n",
              "\n",
              "    [theme=dark] .colab-df-convert:hover {\n",
              "      background-color: #434B5C;\n",
              "      box-shadow: 0px 1px 3px 1px rgba(0, 0, 0, 0.15);\n",
              "      filter: drop-shadow(0px 1px 2px rgba(0, 0, 0, 0.3));\n",
              "      fill: #FFFFFF;\n",
              "    }\n",
              "  </style>\n",
              "\n",
              "      <script>\n",
              "        const buttonEl =\n",
              "          document.querySelector('#df-d19ed49c-9fa6-4815-9e24-407c99e143a1 button.colab-df-convert');\n",
              "        buttonEl.style.display =\n",
              "          google.colab.kernel.accessAllowed ? 'block' : 'none';\n",
              "\n",
              "        async function convertToInteractive(key) {\n",
              "          const element = document.querySelector('#df-d19ed49c-9fa6-4815-9e24-407c99e143a1');\n",
              "          const dataTable =\n",
              "            await google.colab.kernel.invokeFunction('convertToInteractive',\n",
              "                                                     [key], {});\n",
              "          if (!dataTable) return;\n",
              "\n",
              "          const docLinkHtml = 'Like what you see? Visit the ' +\n",
              "            '<a target=\"_blank\" href=https://colab.research.google.com/notebooks/data_table.ipynb>data table notebook</a>'\n",
              "            + ' to learn more about interactive tables.';\n",
              "          element.innerHTML = '';\n",
              "          dataTable['output_type'] = 'display_data';\n",
              "          await google.colab.output.renderOutput(dataTable, element);\n",
              "          const docLink = document.createElement('div');\n",
              "          docLink.innerHTML = docLinkHtml;\n",
              "          element.appendChild(docLink);\n",
              "        }\n",
              "      </script>\n",
              "    </div>\n",
              "  </div>\n",
              "  "
            ]
          },
          "metadata": {},
          "execution_count": 17
        }
      ]
    },
    {
      "cell_type": "code",
      "source": [
        "# Normalize continuous numeric variables\n",
        "# Such as age, avg_glucose_level, and bmi\n",
        "# Using z-score methods\n",
        "\n",
        "# Import libraries for normalization\n",
        "from sklearn import preprocessing\n",
        "scaler = preprocessing.MinMaxScaler()\n",
        "\n",
        "# Only need to normalize continuous numeric variables\n",
        "var_to_norm = ['\"age\"', '\"avg_glucose_level\"', '\"bmi\"']\n",
        "df_noNA[var_to_norm] = scaler.fit_transform(df_noNA[var_to_norm])\n",
        "\n",
        "# Examine first 10 rows of normalized dataset\n",
        "df_noNA.head()\n",
        "\n",
        "# The 3 columns are now standarized to values between 0-1"
      ],
      "metadata": {
        "colab": {
          "base_uri": "https://localhost:8080/",
          "height": 392
        },
        "id": "RAL6qVKSlXqu",
        "outputId": "3a502abe-a0fd-4c50-da89-792793819e1c"
      },
      "execution_count": 18,
      "outputs": [
        {
          "output_type": "stream",
          "name": "stderr",
          "text": [
            "/usr/local/lib/python3.7/dist-packages/pandas/core/frame.py:3678: SettingWithCopyWarning: \n",
            "A value is trying to be set on a copy of a slice from a DataFrame.\n",
            "Try using .loc[row_indexer,col_indexer] = value instead\n",
            "\n",
            "See the caveats in the documentation: https://pandas.pydata.org/pandas-docs/stable/user_guide/indexing.html#returning-a-view-versus-a-copy\n",
            "  self[col] = igetitem(value, i)\n"
          ]
        },
        {
          "output_type": "execute_result",
          "data": {
            "text/plain": [
              "      \"id\" \"gender\"     \"age\" \"hypertension\" \"heart_disease\" \"ever_married\"  \\\n",
              "0   9046.0     Male  0.816895              0               1            Yes   \n",
              "2  31112.0     Male  0.975586              0               1            Yes   \n",
              "3  60182.0   Female  0.597168              0               0            Yes   \n",
              "4   1665.0   Female  0.963379              1               0            Yes   \n",
              "5  56669.0     Male  0.987793              0               0            Yes   \n",
              "\n",
              "     \"work_type\" \"residence_type\"  \"avg_glucose_level\"     \"bmi\"  \\\n",
              "0        Private            Urban             0.801265  0.301260   \n",
              "2        Private            Rural             0.234512  0.254296   \n",
              "3        Private            Urban             0.536008  0.276060   \n",
              "4  Self-employed            Rural             0.549349  0.156930   \n",
              "5        Private            Urban             0.605161  0.214204   \n",
              "\n",
              "  \"smoking_status\"  \"stroke\"  \n",
              "0  formerly smoked       1.0  \n",
              "2     never smoked       1.0  \n",
              "3           smokes       1.0  \n",
              "4     never smoked       1.0  \n",
              "5  formerly smoked       1.0  "
            ],
            "text/html": [
              "\n",
              "  <div id=\"df-8e9e7a1a-ab12-401e-b45c-4befc44aacb9\">\n",
              "    <div class=\"colab-df-container\">\n",
              "      <div>\n",
              "<style scoped>\n",
              "    .dataframe tbody tr th:only-of-type {\n",
              "        vertical-align: middle;\n",
              "    }\n",
              "\n",
              "    .dataframe tbody tr th {\n",
              "        vertical-align: top;\n",
              "    }\n",
              "\n",
              "    .dataframe thead th {\n",
              "        text-align: right;\n",
              "    }\n",
              "</style>\n",
              "<table border=\"1\" class=\"dataframe\">\n",
              "  <thead>\n",
              "    <tr style=\"text-align: right;\">\n",
              "      <th></th>\n",
              "      <th>\"id\"</th>\n",
              "      <th>\"gender\"</th>\n",
              "      <th>\"age\"</th>\n",
              "      <th>\"hypertension\"</th>\n",
              "      <th>\"heart_disease\"</th>\n",
              "      <th>\"ever_married\"</th>\n",
              "      <th>\"work_type\"</th>\n",
              "      <th>\"residence_type\"</th>\n",
              "      <th>\"avg_glucose_level\"</th>\n",
              "      <th>\"bmi\"</th>\n",
              "      <th>\"smoking_status\"</th>\n",
              "      <th>\"stroke\"</th>\n",
              "    </tr>\n",
              "  </thead>\n",
              "  <tbody>\n",
              "    <tr>\n",
              "      <th>0</th>\n",
              "      <td>9046.0</td>\n",
              "      <td>Male</td>\n",
              "      <td>0.816895</td>\n",
              "      <td>0</td>\n",
              "      <td>1</td>\n",
              "      <td>Yes</td>\n",
              "      <td>Private</td>\n",
              "      <td>Urban</td>\n",
              "      <td>0.801265</td>\n",
              "      <td>0.301260</td>\n",
              "      <td>formerly smoked</td>\n",
              "      <td>1.0</td>\n",
              "    </tr>\n",
              "    <tr>\n",
              "      <th>2</th>\n",
              "      <td>31112.0</td>\n",
              "      <td>Male</td>\n",
              "      <td>0.975586</td>\n",
              "      <td>0</td>\n",
              "      <td>1</td>\n",
              "      <td>Yes</td>\n",
              "      <td>Private</td>\n",
              "      <td>Rural</td>\n",
              "      <td>0.234512</td>\n",
              "      <td>0.254296</td>\n",
              "      <td>never smoked</td>\n",
              "      <td>1.0</td>\n",
              "    </tr>\n",
              "    <tr>\n",
              "      <th>3</th>\n",
              "      <td>60182.0</td>\n",
              "      <td>Female</td>\n",
              "      <td>0.597168</td>\n",
              "      <td>0</td>\n",
              "      <td>0</td>\n",
              "      <td>Yes</td>\n",
              "      <td>Private</td>\n",
              "      <td>Urban</td>\n",
              "      <td>0.536008</td>\n",
              "      <td>0.276060</td>\n",
              "      <td>smokes</td>\n",
              "      <td>1.0</td>\n",
              "    </tr>\n",
              "    <tr>\n",
              "      <th>4</th>\n",
              "      <td>1665.0</td>\n",
              "      <td>Female</td>\n",
              "      <td>0.963379</td>\n",
              "      <td>1</td>\n",
              "      <td>0</td>\n",
              "      <td>Yes</td>\n",
              "      <td>Self-employed</td>\n",
              "      <td>Rural</td>\n",
              "      <td>0.549349</td>\n",
              "      <td>0.156930</td>\n",
              "      <td>never smoked</td>\n",
              "      <td>1.0</td>\n",
              "    </tr>\n",
              "    <tr>\n",
              "      <th>5</th>\n",
              "      <td>56669.0</td>\n",
              "      <td>Male</td>\n",
              "      <td>0.987793</td>\n",
              "      <td>0</td>\n",
              "      <td>0</td>\n",
              "      <td>Yes</td>\n",
              "      <td>Private</td>\n",
              "      <td>Urban</td>\n",
              "      <td>0.605161</td>\n",
              "      <td>0.214204</td>\n",
              "      <td>formerly smoked</td>\n",
              "      <td>1.0</td>\n",
              "    </tr>\n",
              "  </tbody>\n",
              "</table>\n",
              "</div>\n",
              "      <button class=\"colab-df-convert\" onclick=\"convertToInteractive('df-8e9e7a1a-ab12-401e-b45c-4befc44aacb9')\"\n",
              "              title=\"Convert this dataframe to an interactive table.\"\n",
              "              style=\"display:none;\">\n",
              "        \n",
              "  <svg xmlns=\"http://www.w3.org/2000/svg\" height=\"24px\"viewBox=\"0 0 24 24\"\n",
              "       width=\"24px\">\n",
              "    <path d=\"M0 0h24v24H0V0z\" fill=\"none\"/>\n",
              "    <path d=\"M18.56 5.44l.94 2.06.94-2.06 2.06-.94-2.06-.94-.94-2.06-.94 2.06-2.06.94zm-11 1L8.5 8.5l.94-2.06 2.06-.94-2.06-.94L8.5 2.5l-.94 2.06-2.06.94zm10 10l.94 2.06.94-2.06 2.06-.94-2.06-.94-.94-2.06-.94 2.06-2.06.94z\"/><path d=\"M17.41 7.96l-1.37-1.37c-.4-.4-.92-.59-1.43-.59-.52 0-1.04.2-1.43.59L10.3 9.45l-7.72 7.72c-.78.78-.78 2.05 0 2.83L4 21.41c.39.39.9.59 1.41.59.51 0 1.02-.2 1.41-.59l7.78-7.78 2.81-2.81c.8-.78.8-2.07 0-2.86zM5.41 20L4 18.59l7.72-7.72 1.47 1.35L5.41 20z\"/>\n",
              "  </svg>\n",
              "      </button>\n",
              "      \n",
              "  <style>\n",
              "    .colab-df-container {\n",
              "      display:flex;\n",
              "      flex-wrap:wrap;\n",
              "      gap: 12px;\n",
              "    }\n",
              "\n",
              "    .colab-df-convert {\n",
              "      background-color: #E8F0FE;\n",
              "      border: none;\n",
              "      border-radius: 50%;\n",
              "      cursor: pointer;\n",
              "      display: none;\n",
              "      fill: #1967D2;\n",
              "      height: 32px;\n",
              "      padding: 0 0 0 0;\n",
              "      width: 32px;\n",
              "    }\n",
              "\n",
              "    .colab-df-convert:hover {\n",
              "      background-color: #E2EBFA;\n",
              "      box-shadow: 0px 1px 2px rgba(60, 64, 67, 0.3), 0px 1px 3px 1px rgba(60, 64, 67, 0.15);\n",
              "      fill: #174EA6;\n",
              "    }\n",
              "\n",
              "    [theme=dark] .colab-df-convert {\n",
              "      background-color: #3B4455;\n",
              "      fill: #D2E3FC;\n",
              "    }\n",
              "\n",
              "    [theme=dark] .colab-df-convert:hover {\n",
              "      background-color: #434B5C;\n",
              "      box-shadow: 0px 1px 3px 1px rgba(0, 0, 0, 0.15);\n",
              "      filter: drop-shadow(0px 1px 2px rgba(0, 0, 0, 0.3));\n",
              "      fill: #FFFFFF;\n",
              "    }\n",
              "  </style>\n",
              "\n",
              "      <script>\n",
              "        const buttonEl =\n",
              "          document.querySelector('#df-8e9e7a1a-ab12-401e-b45c-4befc44aacb9 button.colab-df-convert');\n",
              "        buttonEl.style.display =\n",
              "          google.colab.kernel.accessAllowed ? 'block' : 'none';\n",
              "\n",
              "        async function convertToInteractive(key) {\n",
              "          const element = document.querySelector('#df-8e9e7a1a-ab12-401e-b45c-4befc44aacb9');\n",
              "          const dataTable =\n",
              "            await google.colab.kernel.invokeFunction('convertToInteractive',\n",
              "                                                     [key], {});\n",
              "          if (!dataTable) return;\n",
              "\n",
              "          const docLinkHtml = 'Like what you see? Visit the ' +\n",
              "            '<a target=\"_blank\" href=https://colab.research.google.com/notebooks/data_table.ipynb>data table notebook</a>'\n",
              "            + ' to learn more about interactive tables.';\n",
              "          element.innerHTML = '';\n",
              "          dataTable['output_type'] = 'display_data';\n",
              "          await google.colab.output.renderOutput(dataTable, element);\n",
              "          const docLink = document.createElement('div');\n",
              "          docLink.innerHTML = docLinkHtml;\n",
              "          element.appendChild(docLink);\n",
              "        }\n",
              "      </script>\n",
              "    </div>\n",
              "  </div>\n",
              "  "
            ]
          },
          "metadata": {},
          "execution_count": 18
        }
      ]
    },
    {
      "cell_type": "code",
      "source": [
        "# Create list of categorical columns\n",
        "cat_cols = ['\"gender\"', '\"hypertension\"', '\"heart_disease\"', '\"ever_married\"', '\"work_type\"', '\"residence_type\"', '\"smoking_status\"']"
      ],
      "metadata": {
        "id": "j2wSw3IH3Juu"
      },
      "execution_count": 19,
      "outputs": []
    },
    {
      "cell_type": "code",
      "source": [
        "# Create copy of a data frame in memory w/ a different name\n",
        "df_dummy = df_noNA.copy()\n",
        "# Convert only categorical feature into dummy/one-hot features\n",
        "df_dummy = pd.get_dummies(df_noNA, columns = cat_cols, prefix = cat_cols)\n",
        "# Print dataset\n",
        "df_dummy"
      ],
      "metadata": {
        "colab": {
          "base_uri": "https://localhost:8080/",
          "height": 505
        },
        "id": "Xwoq8DHB4Ckv",
        "outputId": "89b6de34-e3c2-4a6e-b2de-73c7ed8d94cb"
      },
      "execution_count": 20,
      "outputs": [
        {
          "output_type": "execute_result",
          "data": {
            "text/plain": [
              "         \"id\"     \"age\"  \"avg_glucose_level\"     \"bmi\"  \"stroke\"  \\\n",
              "0      9046.0  0.816895             0.801265  0.301260       1.0   \n",
              "2     31112.0  0.975586             0.234512  0.254296       1.0   \n",
              "3     60182.0  0.597168             0.536008  0.276060       1.0   \n",
              "4      1665.0  0.963379             0.549349  0.156930       1.0   \n",
              "5     56669.0  0.987793             0.605161  0.214204       1.0   \n",
              "...       ...       ...                  ...       ...       ...   \n",
              "5104  14180.0  0.157715             0.221402  0.095074       0.0   \n",
              "5106  44873.0  0.987793             0.323516  0.340206       0.0   \n",
              "5107  19723.0  0.426270             0.128658  0.232532       0.0   \n",
              "5108  37544.0  0.621582             0.513203  0.175258       0.0   \n",
              "5109  44679.0  0.536133             0.139230  0.182131       0.0   \n",
              "\n",
              "      \"gender\"_Female  \"gender\"_Male  \"gender\"_Other  \"hypertension\"_0  \\\n",
              "0                   0              1               0                 1   \n",
              "2                   0              1               0                 1   \n",
              "3                   1              0               0                 1   \n",
              "4                   1              0               0                 0   \n",
              "5                   0              1               0                 1   \n",
              "...               ...            ...             ...               ...   \n",
              "5104                1              0               0                 1   \n",
              "5106                1              0               0                 1   \n",
              "5107                1              0               0                 1   \n",
              "5108                0              1               0                 1   \n",
              "5109                1              0               0                 1   \n",
              "\n",
              "      \"hypertension\"_1  ...  \"work_type\"_Never_worked  \"work_type\"_Private  \\\n",
              "0                    0  ...                         0                    1   \n",
              "2                    0  ...                         0                    1   \n",
              "3                    0  ...                         0                    1   \n",
              "4                    1  ...                         0                    0   \n",
              "5                    0  ...                         0                    1   \n",
              "...                ...  ...                       ...                  ...   \n",
              "5104                 0  ...                         0                    0   \n",
              "5106                 0  ...                         0                    0   \n",
              "5107                 0  ...                         0                    0   \n",
              "5108                 0  ...                         0                    1   \n",
              "5109                 0  ...                         0                    0   \n",
              "\n",
              "      \"work_type\"_Self-employed  \"work_type\"_children  \"residence_type\"_Rural  \\\n",
              "0                             0                     0                       0   \n",
              "2                             0                     0                       1   \n",
              "3                             0                     0                       0   \n",
              "4                             1                     0                       1   \n",
              "5                             0                     0                       0   \n",
              "...                         ...                   ...                     ...   \n",
              "5104                          0                     1                       1   \n",
              "5106                          1                     0                       0   \n",
              "5107                          1                     0                       1   \n",
              "5108                          0                     0                       1   \n",
              "5109                          0                     0                       0   \n",
              "\n",
              "      \"residence_type\"_Urban  \"smoking_status\"_Unknown  \\\n",
              "0                          1                         0   \n",
              "2                          0                         0   \n",
              "3                          1                         0   \n",
              "4                          0                         0   \n",
              "5                          1                         0   \n",
              "...                      ...                       ...   \n",
              "5104                       0                         1   \n",
              "5106                       1                         0   \n",
              "5107                       0                         0   \n",
              "5108                       0                         0   \n",
              "5109                       1                         1   \n",
              "\n",
              "      \"smoking_status\"_formerly smoked  \"smoking_status\"_never smoked  \\\n",
              "0                                    1                              0   \n",
              "2                                    0                              1   \n",
              "3                                    0                              0   \n",
              "4                                    0                              1   \n",
              "5                                    1                              0   \n",
              "...                                ...                            ...   \n",
              "5104                                 0                              0   \n",
              "5106                                 0                              1   \n",
              "5107                                 0                              1   \n",
              "5108                                 1                              0   \n",
              "5109                                 0                              0   \n",
              "\n",
              "      \"smoking_status\"_smokes  \n",
              "0                           0  \n",
              "2                           0  \n",
              "3                           1  \n",
              "4                           0  \n",
              "5                           0  \n",
              "...                       ...  \n",
              "5104                        0  \n",
              "5106                        0  \n",
              "5107                        0  \n",
              "5108                        0  \n",
              "5109                        0  \n",
              "\n",
              "[4909 rows x 25 columns]"
            ],
            "text/html": [
              "\n",
              "  <div id=\"df-59b3613c-ee60-4f5f-b47c-75f1d064b61d\">\n",
              "    <div class=\"colab-df-container\">\n",
              "      <div>\n",
              "<style scoped>\n",
              "    .dataframe tbody tr th:only-of-type {\n",
              "        vertical-align: middle;\n",
              "    }\n",
              "\n",
              "    .dataframe tbody tr th {\n",
              "        vertical-align: top;\n",
              "    }\n",
              "\n",
              "    .dataframe thead th {\n",
              "        text-align: right;\n",
              "    }\n",
              "</style>\n",
              "<table border=\"1\" class=\"dataframe\">\n",
              "  <thead>\n",
              "    <tr style=\"text-align: right;\">\n",
              "      <th></th>\n",
              "      <th>\"id\"</th>\n",
              "      <th>\"age\"</th>\n",
              "      <th>\"avg_glucose_level\"</th>\n",
              "      <th>\"bmi\"</th>\n",
              "      <th>\"stroke\"</th>\n",
              "      <th>\"gender\"_Female</th>\n",
              "      <th>\"gender\"_Male</th>\n",
              "      <th>\"gender\"_Other</th>\n",
              "      <th>\"hypertension\"_0</th>\n",
              "      <th>\"hypertension\"_1</th>\n",
              "      <th>...</th>\n",
              "      <th>\"work_type\"_Never_worked</th>\n",
              "      <th>\"work_type\"_Private</th>\n",
              "      <th>\"work_type\"_Self-employed</th>\n",
              "      <th>\"work_type\"_children</th>\n",
              "      <th>\"residence_type\"_Rural</th>\n",
              "      <th>\"residence_type\"_Urban</th>\n",
              "      <th>\"smoking_status\"_Unknown</th>\n",
              "      <th>\"smoking_status\"_formerly smoked</th>\n",
              "      <th>\"smoking_status\"_never smoked</th>\n",
              "      <th>\"smoking_status\"_smokes</th>\n",
              "    </tr>\n",
              "  </thead>\n",
              "  <tbody>\n",
              "    <tr>\n",
              "      <th>0</th>\n",
              "      <td>9046.0</td>\n",
              "      <td>0.816895</td>\n",
              "      <td>0.801265</td>\n",
              "      <td>0.301260</td>\n",
              "      <td>1.0</td>\n",
              "      <td>0</td>\n",
              "      <td>1</td>\n",
              "      <td>0</td>\n",
              "      <td>1</td>\n",
              "      <td>0</td>\n",
              "      <td>...</td>\n",
              "      <td>0</td>\n",
              "      <td>1</td>\n",
              "      <td>0</td>\n",
              "      <td>0</td>\n",
              "      <td>0</td>\n",
              "      <td>1</td>\n",
              "      <td>0</td>\n",
              "      <td>1</td>\n",
              "      <td>0</td>\n",
              "      <td>0</td>\n",
              "    </tr>\n",
              "    <tr>\n",
              "      <th>2</th>\n",
              "      <td>31112.0</td>\n",
              "      <td>0.975586</td>\n",
              "      <td>0.234512</td>\n",
              "      <td>0.254296</td>\n",
              "      <td>1.0</td>\n",
              "      <td>0</td>\n",
              "      <td>1</td>\n",
              "      <td>0</td>\n",
              "      <td>1</td>\n",
              "      <td>0</td>\n",
              "      <td>...</td>\n",
              "      <td>0</td>\n",
              "      <td>1</td>\n",
              "      <td>0</td>\n",
              "      <td>0</td>\n",
              "      <td>1</td>\n",
              "      <td>0</td>\n",
              "      <td>0</td>\n",
              "      <td>0</td>\n",
              "      <td>1</td>\n",
              "      <td>0</td>\n",
              "    </tr>\n",
              "    <tr>\n",
              "      <th>3</th>\n",
              "      <td>60182.0</td>\n",
              "      <td>0.597168</td>\n",
              "      <td>0.536008</td>\n",
              "      <td>0.276060</td>\n",
              "      <td>1.0</td>\n",
              "      <td>1</td>\n",
              "      <td>0</td>\n",
              "      <td>0</td>\n",
              "      <td>1</td>\n",
              "      <td>0</td>\n",
              "      <td>...</td>\n",
              "      <td>0</td>\n",
              "      <td>1</td>\n",
              "      <td>0</td>\n",
              "      <td>0</td>\n",
              "      <td>0</td>\n",
              "      <td>1</td>\n",
              "      <td>0</td>\n",
              "      <td>0</td>\n",
              "      <td>0</td>\n",
              "      <td>1</td>\n",
              "    </tr>\n",
              "    <tr>\n",
              "      <th>4</th>\n",
              "      <td>1665.0</td>\n",
              "      <td>0.963379</td>\n",
              "      <td>0.549349</td>\n",
              "      <td>0.156930</td>\n",
              "      <td>1.0</td>\n",
              "      <td>1</td>\n",
              "      <td>0</td>\n",
              "      <td>0</td>\n",
              "      <td>0</td>\n",
              "      <td>1</td>\n",
              "      <td>...</td>\n",
              "      <td>0</td>\n",
              "      <td>0</td>\n",
              "      <td>1</td>\n",
              "      <td>0</td>\n",
              "      <td>1</td>\n",
              "      <td>0</td>\n",
              "      <td>0</td>\n",
              "      <td>0</td>\n",
              "      <td>1</td>\n",
              "      <td>0</td>\n",
              "    </tr>\n",
              "    <tr>\n",
              "      <th>5</th>\n",
              "      <td>56669.0</td>\n",
              "      <td>0.987793</td>\n",
              "      <td>0.605161</td>\n",
              "      <td>0.214204</td>\n",
              "      <td>1.0</td>\n",
              "      <td>0</td>\n",
              "      <td>1</td>\n",
              "      <td>0</td>\n",
              "      <td>1</td>\n",
              "      <td>0</td>\n",
              "      <td>...</td>\n",
              "      <td>0</td>\n",
              "      <td>1</td>\n",
              "      <td>0</td>\n",
              "      <td>0</td>\n",
              "      <td>0</td>\n",
              "      <td>1</td>\n",
              "      <td>0</td>\n",
              "      <td>1</td>\n",
              "      <td>0</td>\n",
              "      <td>0</td>\n",
              "    </tr>\n",
              "    <tr>\n",
              "      <th>...</th>\n",
              "      <td>...</td>\n",
              "      <td>...</td>\n",
              "      <td>...</td>\n",
              "      <td>...</td>\n",
              "      <td>...</td>\n",
              "      <td>...</td>\n",
              "      <td>...</td>\n",
              "      <td>...</td>\n",
              "      <td>...</td>\n",
              "      <td>...</td>\n",
              "      <td>...</td>\n",
              "      <td>...</td>\n",
              "      <td>...</td>\n",
              "      <td>...</td>\n",
              "      <td>...</td>\n",
              "      <td>...</td>\n",
              "      <td>...</td>\n",
              "      <td>...</td>\n",
              "      <td>...</td>\n",
              "      <td>...</td>\n",
              "      <td>...</td>\n",
              "    </tr>\n",
              "    <tr>\n",
              "      <th>5104</th>\n",
              "      <td>14180.0</td>\n",
              "      <td>0.157715</td>\n",
              "      <td>0.221402</td>\n",
              "      <td>0.095074</td>\n",
              "      <td>0.0</td>\n",
              "      <td>1</td>\n",
              "      <td>0</td>\n",
              "      <td>0</td>\n",
              "      <td>1</td>\n",
              "      <td>0</td>\n",
              "      <td>...</td>\n",
              "      <td>0</td>\n",
              "      <td>0</td>\n",
              "      <td>0</td>\n",
              "      <td>1</td>\n",
              "      <td>1</td>\n",
              "      <td>0</td>\n",
              "      <td>1</td>\n",
              "      <td>0</td>\n",
              "      <td>0</td>\n",
              "      <td>0</td>\n",
              "    </tr>\n",
              "    <tr>\n",
              "      <th>5106</th>\n",
              "      <td>44873.0</td>\n",
              "      <td>0.987793</td>\n",
              "      <td>0.323516</td>\n",
              "      <td>0.340206</td>\n",
              "      <td>0.0</td>\n",
              "      <td>1</td>\n",
              "      <td>0</td>\n",
              "      <td>0</td>\n",
              "      <td>1</td>\n",
              "      <td>0</td>\n",
              "      <td>...</td>\n",
              "      <td>0</td>\n",
              "      <td>0</td>\n",
              "      <td>1</td>\n",
              "      <td>0</td>\n",
              "      <td>0</td>\n",
              "      <td>1</td>\n",
              "      <td>0</td>\n",
              "      <td>0</td>\n",
              "      <td>1</td>\n",
              "      <td>0</td>\n",
              "    </tr>\n",
              "    <tr>\n",
              "      <th>5107</th>\n",
              "      <td>19723.0</td>\n",
              "      <td>0.426270</td>\n",
              "      <td>0.128658</td>\n",
              "      <td>0.232532</td>\n",
              "      <td>0.0</td>\n",
              "      <td>1</td>\n",
              "      <td>0</td>\n",
              "      <td>0</td>\n",
              "      <td>1</td>\n",
              "      <td>0</td>\n",
              "      <td>...</td>\n",
              "      <td>0</td>\n",
              "      <td>0</td>\n",
              "      <td>1</td>\n",
              "      <td>0</td>\n",
              "      <td>1</td>\n",
              "      <td>0</td>\n",
              "      <td>0</td>\n",
              "      <td>0</td>\n",
              "      <td>1</td>\n",
              "      <td>0</td>\n",
              "    </tr>\n",
              "    <tr>\n",
              "      <th>5108</th>\n",
              "      <td>37544.0</td>\n",
              "      <td>0.621582</td>\n",
              "      <td>0.513203</td>\n",
              "      <td>0.175258</td>\n",
              "      <td>0.0</td>\n",
              "      <td>0</td>\n",
              "      <td>1</td>\n",
              "      <td>0</td>\n",
              "      <td>1</td>\n",
              "      <td>0</td>\n",
              "      <td>...</td>\n",
              "      <td>0</td>\n",
              "      <td>1</td>\n",
              "      <td>0</td>\n",
              "      <td>0</td>\n",
              "      <td>1</td>\n",
              "      <td>0</td>\n",
              "      <td>0</td>\n",
              "      <td>1</td>\n",
              "      <td>0</td>\n",
              "      <td>0</td>\n",
              "    </tr>\n",
              "    <tr>\n",
              "      <th>5109</th>\n",
              "      <td>44679.0</td>\n",
              "      <td>0.536133</td>\n",
              "      <td>0.139230</td>\n",
              "      <td>0.182131</td>\n",
              "      <td>0.0</td>\n",
              "      <td>1</td>\n",
              "      <td>0</td>\n",
              "      <td>0</td>\n",
              "      <td>1</td>\n",
              "      <td>0</td>\n",
              "      <td>...</td>\n",
              "      <td>0</td>\n",
              "      <td>0</td>\n",
              "      <td>0</td>\n",
              "      <td>0</td>\n",
              "      <td>0</td>\n",
              "      <td>1</td>\n",
              "      <td>1</td>\n",
              "      <td>0</td>\n",
              "      <td>0</td>\n",
              "      <td>0</td>\n",
              "    </tr>\n",
              "  </tbody>\n",
              "</table>\n",
              "<p>4909 rows × 25 columns</p>\n",
              "</div>\n",
              "      <button class=\"colab-df-convert\" onclick=\"convertToInteractive('df-59b3613c-ee60-4f5f-b47c-75f1d064b61d')\"\n",
              "              title=\"Convert this dataframe to an interactive table.\"\n",
              "              style=\"display:none;\">\n",
              "        \n",
              "  <svg xmlns=\"http://www.w3.org/2000/svg\" height=\"24px\"viewBox=\"0 0 24 24\"\n",
              "       width=\"24px\">\n",
              "    <path d=\"M0 0h24v24H0V0z\" fill=\"none\"/>\n",
              "    <path d=\"M18.56 5.44l.94 2.06.94-2.06 2.06-.94-2.06-.94-.94-2.06-.94 2.06-2.06.94zm-11 1L8.5 8.5l.94-2.06 2.06-.94-2.06-.94L8.5 2.5l-.94 2.06-2.06.94zm10 10l.94 2.06.94-2.06 2.06-.94-2.06-.94-.94-2.06-.94 2.06-2.06.94z\"/><path d=\"M17.41 7.96l-1.37-1.37c-.4-.4-.92-.59-1.43-.59-.52 0-1.04.2-1.43.59L10.3 9.45l-7.72 7.72c-.78.78-.78 2.05 0 2.83L4 21.41c.39.39.9.59 1.41.59.51 0 1.02-.2 1.41-.59l7.78-7.78 2.81-2.81c.8-.78.8-2.07 0-2.86zM5.41 20L4 18.59l7.72-7.72 1.47 1.35L5.41 20z\"/>\n",
              "  </svg>\n",
              "      </button>\n",
              "      \n",
              "  <style>\n",
              "    .colab-df-container {\n",
              "      display:flex;\n",
              "      flex-wrap:wrap;\n",
              "      gap: 12px;\n",
              "    }\n",
              "\n",
              "    .colab-df-convert {\n",
              "      background-color: #E8F0FE;\n",
              "      border: none;\n",
              "      border-radius: 50%;\n",
              "      cursor: pointer;\n",
              "      display: none;\n",
              "      fill: #1967D2;\n",
              "      height: 32px;\n",
              "      padding: 0 0 0 0;\n",
              "      width: 32px;\n",
              "    }\n",
              "\n",
              "    .colab-df-convert:hover {\n",
              "      background-color: #E2EBFA;\n",
              "      box-shadow: 0px 1px 2px rgba(60, 64, 67, 0.3), 0px 1px 3px 1px rgba(60, 64, 67, 0.15);\n",
              "      fill: #174EA6;\n",
              "    }\n",
              "\n",
              "    [theme=dark] .colab-df-convert {\n",
              "      background-color: #3B4455;\n",
              "      fill: #D2E3FC;\n",
              "    }\n",
              "\n",
              "    [theme=dark] .colab-df-convert:hover {\n",
              "      background-color: #434B5C;\n",
              "      box-shadow: 0px 1px 3px 1px rgba(0, 0, 0, 0.15);\n",
              "      filter: drop-shadow(0px 1px 2px rgba(0, 0, 0, 0.3));\n",
              "      fill: #FFFFFF;\n",
              "    }\n",
              "  </style>\n",
              "\n",
              "      <script>\n",
              "        const buttonEl =\n",
              "          document.querySelector('#df-59b3613c-ee60-4f5f-b47c-75f1d064b61d button.colab-df-convert');\n",
              "        buttonEl.style.display =\n",
              "          google.colab.kernel.accessAllowed ? 'block' : 'none';\n",
              "\n",
              "        async function convertToInteractive(key) {\n",
              "          const element = document.querySelector('#df-59b3613c-ee60-4f5f-b47c-75f1d064b61d');\n",
              "          const dataTable =\n",
              "            await google.colab.kernel.invokeFunction('convertToInteractive',\n",
              "                                                     [key], {});\n",
              "          if (!dataTable) return;\n",
              "\n",
              "          const docLinkHtml = 'Like what you see? Visit the ' +\n",
              "            '<a target=\"_blank\" href=https://colab.research.google.com/notebooks/data_table.ipynb>data table notebook</a>'\n",
              "            + ' to learn more about interactive tables.';\n",
              "          element.innerHTML = '';\n",
              "          dataTable['output_type'] = 'display_data';\n",
              "          await google.colab.output.renderOutput(dataTable, element);\n",
              "          const docLink = document.createElement('div');\n",
              "          docLink.innerHTML = docLinkHtml;\n",
              "          element.appendChild(docLink);\n",
              "        }\n",
              "      </script>\n",
              "    </div>\n",
              "  </div>\n",
              "  "
            ]
          },
          "metadata": {},
          "execution_count": 20
        }
      ]
    },
    {
      "cell_type": "code",
      "source": [
        "# Create train test set split\n",
        "from sklearn.model_selection import train_test_split"
      ],
      "metadata": {
        "id": "02im4KnN4ymx"
      },
      "execution_count": 21,
      "outputs": []
    },
    {
      "cell_type": "code",
      "source": [
        "# Balancing Dataset: Import libraries needed for SMOTE Oversampling method\n",
        "from collections import Counter\n",
        "from imblearn.over_sampling import SMOTE\n",
        "import warnings\n",
        "warnings.simplefilter(action='ignore', category=FutureWarning)"
      ],
      "metadata": {
        "id": "xLtQ7CWDc1dW"
      },
      "execution_count": 22,
      "outputs": []
    },
    {
      "cell_type": "code",
      "source": [
        "print(df_dummy.dtypes)"
      ],
      "metadata": {
        "colab": {
          "base_uri": "https://localhost:8080/"
        },
        "id": "kn_cX0Efi_F6",
        "outputId": "8d4129ba-03d9-440c-d8da-405723f36240"
      },
      "execution_count": 23,
      "outputs": [
        {
          "output_type": "stream",
          "name": "stdout",
          "text": [
            "\"id\"                                float64\n",
            "\"age\"                               float64\n",
            "\"avg_glucose_level\"                 float64\n",
            "\"bmi\"                               float64\n",
            "\"stroke\"                            float64\n",
            "\"gender\"_Female                       uint8\n",
            "\"gender\"_Male                         uint8\n",
            "\"gender\"_Other                        uint8\n",
            "\"hypertension\"_0                      uint8\n",
            "\"hypertension\"_1                      uint8\n",
            "\"heart_disease\"_0                     uint8\n",
            "\"heart_disease\"_1                     uint8\n",
            "\"ever_married\"_No                     uint8\n",
            "\"ever_married\"_Yes                    uint8\n",
            "\"work_type\"_Govt_job                  uint8\n",
            "\"work_type\"_Never_worked              uint8\n",
            "\"work_type\"_Private                   uint8\n",
            "\"work_type\"_Self-employed             uint8\n",
            "\"work_type\"_children                  uint8\n",
            "\"residence_type\"_Rural                uint8\n",
            "\"residence_type\"_Urban                uint8\n",
            "\"smoking_status\"_Unknown              uint8\n",
            "\"smoking_status\"_formerly smoked      uint8\n",
            "\"smoking_status\"_never smoked         uint8\n",
            "\"smoking_status\"_smokes               uint8\n",
            "dtype: object\n"
          ]
        }
      ]
    },
    {
      "cell_type": "code",
      "source": [
        "# Partition the class of interest, stroke (Dependent Variable), from the Independent Variables\n",
        "iv_classes = df_dummy.iloc[:,:-1]\n",
        "dv_class = df_dummy.iloc[:,-1]"
      ],
      "metadata": {
        "id": "5WdmYvrFhURG"
      },
      "execution_count": 24,
      "outputs": []
    },
    {
      "cell_type": "code",
      "source": [
        "# Set class name as \"stroke\", all other attributes will be used as features\n",
        "class_col_name = '\"stroke\"'\n",
        "# Obtain necessary dummy feature names\n",
        "dummy_feature_name = df_dummy.columns.values.tolist()\n",
        "dummy_feature_names = dummy_feature_name[5:]"
      ],
      "metadata": {
        "id": "-qClTFy4iIP1"
      },
      "execution_count": 25,
      "outputs": []
    },
    {
      "cell_type": "code",
      "source": [
        "# 70% training, 30% test set split\n",
        "x_train, x_test, y_train, y_test = train_test_split(df_dummy.loc[:, dummy_feature_names], df_dummy[class_col_name], test_size=0.3, random_state=1)"
      ],
      "metadata": {
        "id": "p6iKLvfX4_3l"
      },
      "execution_count": 26,
      "outputs": []
    },
    {
      "cell_type": "code",
      "source": [
        "# Display the class distribution in its original split\n",
        "print(\"Original class split prior to SMOTE oversampling: \", Counter(y_train))"
      ],
      "metadata": {
        "colab": {
          "base_uri": "https://localhost:8080/"
        },
        "id": "rJ8ulwphnm8b",
        "outputId": "515ce1c3-2677-4756-9444-b946cb05687e"
      },
      "execution_count": 27,
      "outputs": [
        {
          "output_type": "stream",
          "name": "stdout",
          "text": [
            "Original class split prior to SMOTE oversampling:  Counter({0.0: 3291, 1.0: 145})\n"
          ]
        }
      ]
    },
    {
      "cell_type": "code",
      "source": [
        "# Implement the SMOTE Oversampler Model\n",
        "SMOTEOversampler = SMOTE()"
      ],
      "metadata": {
        "id": "PVGIxRZSoElj"
      },
      "execution_count": 28,
      "outputs": []
    },
    {
      "cell_type": "code",
      "source": [
        "# Apply data into Random Undersampler Model\n",
        "x_train_SMOTE, y_train_SMOTE = SMOTEOversampler.fit_resample(x_train, y_train)"
      ],
      "metadata": {
        "id": "2z3lIFJ1oHzH"
      },
      "execution_count": 29,
      "outputs": []
    },
    {
      "cell_type": "code",
      "source": [
        "# Display the class distribution after the SMOTE Oversampler is applied\n",
        "print(\"Class split after SMOTE Oversampling: \",Counter(y_train_SMOTE))"
      ],
      "metadata": {
        "colab": {
          "base_uri": "https://localhost:8080/"
        },
        "id": "EizKwQ9GoNdN",
        "outputId": "fa4170b7-806a-434c-a191-137a561b7e5f"
      },
      "execution_count": 30,
      "outputs": [
        {
          "output_type": "stream",
          "name": "stdout",
          "text": [
            "Class split after SMOTE Oversampling:  Counter({0.0: 3291, 1.0: 3291})\n"
          ]
        }
      ]
    },
    {
      "cell_type": "code",
      "source": [
        "# Import required libraries\n",
        "from sklearn.svm import SVC\n",
        "from sklearn.metrics import classification_report, roc_auc_score"
      ],
      "metadata": {
        "id": "cL6l9MxRoNlN"
      },
      "execution_count": 31,
      "outputs": []
    },
    {
      "cell_type": "code",
      "source": [
        "# Evaluate the SMOTE Oversampler\n",
        "model = SVC()\n",
        "clf_SMOTEOversampler = model.fit(x_train_SMOTE, y_train_SMOTE)\n",
        "pred_SMOTEOversampler = clf_SMOTEOversampler.predict(x_test)"
      ],
      "metadata": {
        "id": "TOXiovoUoTIP"
      },
      "execution_count": 32,
      "outputs": []
    },
    {
      "cell_type": "code",
      "source": [
        "# Display ROC AUC score\n",
        "print(\"SMOTE Oversampled data - ROC AUC: \", roc_auc_score(y_test, pred_SMOTEOversampler))"
      ],
      "metadata": {
        "colab": {
          "base_uri": "https://localhost:8080/"
        },
        "id": "kGCZWJRmoYm8",
        "outputId": "512cb2b8-ac80-4720-d78d-9b4ef560961f"
      },
      "execution_count": 33,
      "outputs": [
        {
          "output_type": "stream",
          "name": "stdout",
          "text": [
            "SMOTE Oversampled data - ROC AUC:  0.5\n"
          ]
        }
      ]
    },
    {
      "cell_type": "code",
      "source": [
        "start = time.time()"
      ],
      "metadata": {
        "id": "aAhGMNLMEKZz"
      },
      "execution_count": 34,
      "outputs": []
    },
    {
      "cell_type": "code",
      "source": [
        "# Import needed libraries for Logistic Regression Model\n",
        "from sklearn.linear_model import LogisticRegression\n",
        "\n",
        "# Begin to Implement Logistic Regression Model\n",
        "log_regr = LogisticRegression()\n",
        "\n",
        "# Apply data into Logistic Regression Model\n",
        "log_regr.fit(x_train, y_train)\n",
        "y_pred = log_regr.predict(x_test)"
      ],
      "metadata": {
        "id": "RtkRVpezDknJ"
      },
      "execution_count": 35,
      "outputs": []
    },
    {
      "cell_type": "code",
      "source": [
        "# Obtain Confusion Matrix and Evaluation Metrics for the Logistic Regression Model\n",
        "from sklearn import metrics\n",
        "cnf_matrix = metrics.confusion_matrix(y_test, y_pred)\n",
        "cnf_matrix"
      ],
      "metadata": {
        "colab": {
          "base_uri": "https://localhost:8080/"
        },
        "id": "FN1um3bfDz8l",
        "outputId": "e8623283-791a-4c5d-d376-78d553cb544a"
      },
      "execution_count": 36,
      "outputs": [
        {
          "output_type": "execute_result",
          "data": {
            "text/plain": [
              "array([[1409,    0],\n",
              "       [  64,    0]])"
            ]
          },
          "metadata": {},
          "execution_count": 36
        }
      ]
    },
    {
      "cell_type": "code",
      "source": [
        "# Display Evaluation Metrics for Logistic Regression Model\n",
        "print(\"Logistic Regression Accuracy:\\t\", metrics.accuracy_score(y_test, y_pred))\n",
        "print(\"Logistic Regression Precision:\\t\",metrics.precision_score(y_test, y_pred))\n",
        "print(\"Logistic Regression Recall:\\t\",metrics.recall_score(y_test, y_pred))"
      ],
      "metadata": {
        "colab": {
          "base_uri": "https://localhost:8080/"
        },
        "id": "p6_jeTNOD3Xs",
        "outputId": "aea35628-c482-4c48-c41a-dfe60f1fbb55"
      },
      "execution_count": 37,
      "outputs": [
        {
          "output_type": "stream",
          "name": "stdout",
          "text": [
            "Logistic Regression Accuracy:\t 0.956551255940258\n",
            "Logistic Regression Precision:\t 0.0\n",
            "Logistic Regression Recall:\t 0.0\n"
          ]
        },
        {
          "output_type": "stream",
          "name": "stderr",
          "text": [
            "/usr/local/lib/python3.7/dist-packages/sklearn/metrics/_classification.py:1318: UndefinedMetricWarning: Precision is ill-defined and being set to 0.0 due to no predicted samples. Use `zero_division` parameter to control this behavior.\n",
            "  _warn_prf(average, modifier, msg_start, len(result))\n"
          ]
        }
      ]
    },
    {
      "cell_type": "code",
      "source": [
        "# Import libraries for cross-validation\n",
        "from sklearn.model_selection import cross_val_score, cross_val_predict\n",
        "\n",
        "# 10-Fold Cross Validation for Logistic Regression\n",
        "cv_lr = cross_val_score(log_regr, df_dummy, df_dummy[class_col_name], cv=10)\n",
        "print(\"Cross-validated scores:\\t\", cv_lr)\n",
        "\n",
        "# Increased Accuracy score from 0.957 to 1"
      ],
      "metadata": {
        "colab": {
          "base_uri": "https://localhost:8080/"
        },
        "id": "zy9VVp3BoJ8I",
        "outputId": "889c6c54-242b-4079-bdbb-c34fc77d0108"
      },
      "execution_count": 38,
      "outputs": [
        {
          "output_type": "stream",
          "name": "stderr",
          "text": [
            "/usr/local/lib/python3.7/dist-packages/sklearn/linear_model/_logistic.py:818: ConvergenceWarning: lbfgs failed to converge (status=1):\n",
            "STOP: TOTAL NO. of ITERATIONS REACHED LIMIT.\n",
            "\n",
            "Increase the number of iterations (max_iter) or scale the data as shown in:\n",
            "    https://scikit-learn.org/stable/modules/preprocessing.html\n",
            "Please also refer to the documentation for alternative solver options:\n",
            "    https://scikit-learn.org/stable/modules/linear_model.html#logistic-regression\n",
            "  extra_warning_msg=_LOGISTIC_SOLVER_CONVERGENCE_MSG,\n",
            "/usr/local/lib/python3.7/dist-packages/sklearn/linear_model/_logistic.py:818: ConvergenceWarning: lbfgs failed to converge (status=1):\n",
            "STOP: TOTAL NO. of ITERATIONS REACHED LIMIT.\n",
            "\n",
            "Increase the number of iterations (max_iter) or scale the data as shown in:\n",
            "    https://scikit-learn.org/stable/modules/preprocessing.html\n",
            "Please also refer to the documentation for alternative solver options:\n",
            "    https://scikit-learn.org/stable/modules/linear_model.html#logistic-regression\n",
            "  extra_warning_msg=_LOGISTIC_SOLVER_CONVERGENCE_MSG,\n"
          ]
        },
        {
          "output_type": "stream",
          "name": "stdout",
          "text": [
            "Cross-validated scores:\t [1.         1.         1.         1.         1.         1.\n",
            " 1.         1.         0.95723014 0.95918367]\n"
          ]
        }
      ]
    },
    {
      "cell_type": "code",
      "source": [
        "# Cross validation accuracy for Logistic Regression (R2 score)\n",
        "predictions = cross_val_predict(log_regr, df_dummy, df_dummy[class_col_name], cv=10)\n",
        "accuracy = metrics.r2_score(df_dummy[class_col_name], predictions)\n",
        "print(\"Cross-Predicted Accuracy for Logistic Regression: \", accuracy)"
      ],
      "metadata": {
        "colab": {
          "base_uri": "https://localhost:8080/"
        },
        "id": "jXlgXCHzw80b",
        "outputId": "adbbd72a-6a42-4d9b-d45f-d8aa5a201f7c"
      },
      "execution_count": 39,
      "outputs": [
        {
          "output_type": "stream",
          "name": "stderr",
          "text": [
            "/usr/local/lib/python3.7/dist-packages/sklearn/linear_model/_logistic.py:818: ConvergenceWarning: lbfgs failed to converge (status=1):\n",
            "STOP: TOTAL NO. of ITERATIONS REACHED LIMIT.\n",
            "\n",
            "Increase the number of iterations (max_iter) or scale the data as shown in:\n",
            "    https://scikit-learn.org/stable/modules/preprocessing.html\n",
            "Please also refer to the documentation for alternative solver options:\n",
            "    https://scikit-learn.org/stable/modules/linear_model.html#logistic-regression\n",
            "  extra_warning_msg=_LOGISTIC_SOLVER_CONVERGENCE_MSG,\n",
            "/usr/local/lib/python3.7/dist-packages/sklearn/linear_model/_logistic.py:818: ConvergenceWarning: lbfgs failed to converge (status=1):\n",
            "STOP: TOTAL NO. of ITERATIONS REACHED LIMIT.\n",
            "\n",
            "Increase the number of iterations (max_iter) or scale the data as shown in:\n",
            "    https://scikit-learn.org/stable/modules/preprocessing.html\n",
            "Please also refer to the documentation for alternative solver options:\n",
            "    https://scikit-learn.org/stable/modules/linear_model.html#logistic-regression\n",
            "  extra_warning_msg=_LOGISTIC_SOLVER_CONVERGENCE_MSG,\n"
          ]
        },
        {
          "output_type": "stream",
          "name": "stdout",
          "text": [
            "Cross-Predicted Accuracy for Logistic Regression:  0.7951043469408531\n"
          ]
        }
      ]
    },
    {
      "cell_type": "code",
      "source": [
        "end = time.time()\n",
        "\n",
        "print(\"Time to run Logistic Regression: \", end - start)"
      ],
      "metadata": {
        "colab": {
          "base_uri": "https://localhost:8080/"
        },
        "id": "6z0XJ14SEwPD",
        "outputId": "a1464bf4-975d-4220-dd1c-a409a0b13567"
      },
      "execution_count": 40,
      "outputs": [
        {
          "output_type": "stream",
          "name": "stdout",
          "text": [
            "Time to run Logistic Regression:  3.1480841636657715\n"
          ]
        }
      ]
    },
    {
      "cell_type": "code",
      "source": [
        "start = time.time()\n",
        "\n",
        "# Naive Bayes modeling\n",
        "from sklearn.naive_bayes import MultinomialNB"
      ],
      "metadata": {
        "id": "oPoDOZY06eyz"
      },
      "execution_count": 41,
      "outputs": []
    },
    {
      "cell_type": "code",
      "source": [
        "# Create Multinomial NB Classifier\n",
        "nb = MultinomialNB()"
      ],
      "metadata": {
        "id": "CftAeAA46moY"
      },
      "execution_count": 42,
      "outputs": []
    },
    {
      "cell_type": "code",
      "source": [
        "# Train model using training sets\n",
        "nb.fit(x_train_SMOTE, y_train_SMOTE)"
      ],
      "metadata": {
        "colab": {
          "base_uri": "https://localhost:8080/"
        },
        "id": "OrRDZprg6rvv",
        "outputId": "622b5b6b-90b0-477e-ed06-0e82a9efbcd4"
      },
      "execution_count": 43,
      "outputs": [
        {
          "output_type": "execute_result",
          "data": {
            "text/plain": [
              "MultinomialNB()"
            ]
          },
          "metadata": {},
          "execution_count": 43
        }
      ]
    },
    {
      "cell_type": "code",
      "source": [
        "# Predict response for test dataset\n",
        "y_pred = nb.predict(x_test)"
      ],
      "metadata": {
        "id": "n_qNrLOf8G4y"
      },
      "execution_count": 44,
      "outputs": []
    },
    {
      "cell_type": "code",
      "source": [
        "# Print Naive Bayes output\n",
        "print(\"Number of features used: \", nb.n_features_)\n",
        "print(\"Classes: \", nb.classes_)\n",
        "print(\"Number of records for classes: \", nb.class_count_)\n",
        "print(\"Log prior probability for classes: \", nb.class_log_prior_)\n",
        "print(\"Log conditional probability for each feature given a class: \", nb.feature_log_prob_)"
      ],
      "metadata": {
        "colab": {
          "base_uri": "https://localhost:8080/"
        },
        "id": "hhIZjSC18N0y",
        "outputId": "e369dad1-6c2a-4168-9fa3-cc9f70f22d22"
      },
      "execution_count": 45,
      "outputs": [
        {
          "output_type": "stream",
          "name": "stdout",
          "text": [
            "Number of features used:  20\n",
            "Classes:  [0. 1.]\n",
            "Number of records for classes:  [3291. 3291.]\n",
            "Log prior probability for classes:  [-0.69314718 -0.69314718]\n",
            "Log conditional probability for each feature given a class:  [[ -2.47270743  -2.84008951  -9.35257751  -2.03636161  -4.39675045\n",
            "   -1.99056696  -5.08288006  -2.97245497  -2.38986067  -3.98660149\n",
            "   -7.15535293  -2.49664198  -3.8615758   -3.90153906  -2.67927954\n",
            "   -2.60089142  -3.11914766  -3.7690812   -2.91883388  -3.83311859]\n",
            " [ -3.04260823  -2.72915412 -12.73907161  -3.96491332  -2.66402858\n",
            "   -3.69762338  -2.55636268  -2.63730714  -4.35953259  -2.21559915\n",
            "  -12.73907161  -2.89257778  -2.53056564 -12.73907161  -2.93711857\n",
            "   -3.21611268  -2.7126145   -2.46927567  -3.09325436  -2.55059311]]\n"
          ]
        }
      ]
    },
    {
      "cell_type": "code",
      "source": [
        "# Get Naive Bayes Classifier Confusion matrix\n",
        "from sklearn.metrics import confusion_matrix\n",
        "cf = confusion_matrix(y_test, y_pred)\n",
        "print(\"Confusion Matrix\")\n",
        "print(cf)\n",
        "tn, fp, fn, tp = cf.ravel()\n",
        "print(\"TP: \", tp, \", FP: \", fp, \", TN: \", tn, \", FN: \", fn)"
      ],
      "metadata": {
        "colab": {
          "base_uri": "https://localhost:8080/"
        },
        "id": "rXOatfsE8voW",
        "outputId": "12f8114c-5f90-41ae-af95-61075e8eda65"
      },
      "execution_count": 46,
      "outputs": [
        {
          "output_type": "stream",
          "name": "stdout",
          "text": [
            "Confusion Matrix\n",
            "[[1357   52]\n",
            " [  58    6]]\n",
            "TP:  6 , FP:  52 , TN:  1357 , FN:  58\n"
          ]
        }
      ]
    },
    {
      "cell_type": "code",
      "source": [
        "# Get Naive Bayes Classifier Classifier report\n",
        "from sklearn.metrics import classification_report\n",
        "from sklearn import metrics\n",
        "\n",
        "print(classification_report(y_test, y_pred))"
      ],
      "metadata": {
        "colab": {
          "base_uri": "https://localhost:8080/"
        },
        "id": "-jns91BUAh8i",
        "outputId": "0854bba5-b4bd-4a86-cbe7-446822ef5222"
      },
      "execution_count": 47,
      "outputs": [
        {
          "output_type": "stream",
          "name": "stdout",
          "text": [
            "              precision    recall  f1-score   support\n",
            "\n",
            "         0.0       0.96      0.96      0.96      1409\n",
            "         1.0       0.10      0.09      0.10        64\n",
            "\n",
            "    accuracy                           0.93      1473\n",
            "   macro avg       0.53      0.53      0.53      1473\n",
            "weighted avg       0.92      0.93      0.92      1473\n",
            "\n"
          ]
        }
      ]
    },
    {
      "cell_type": "code",
      "source": [
        "# Display Evaluation Metrics for Naive Bayes Classifier\n",
        "print(\"Naive Bayes Classifier Accuracy:\\t\", metrics.accuracy_score(y_test, y_pred))\n",
        "print(\"Naive Bayes Classifier Precision:\\t\",metrics.precision_score(y_test, y_pred))\n",
        "print(\"Naive Bayes Classifier Recall:\\t\\t\",metrics.recall_score(y_test, y_pred))"
      ],
      "metadata": {
        "colab": {
          "base_uri": "https://localhost:8080/"
        },
        "id": "MtCTlzoyRMQb",
        "outputId": "a354261e-e1bf-4606-a02e-c0325376b038"
      },
      "execution_count": 48,
      "outputs": [
        {
          "output_type": "stream",
          "name": "stdout",
          "text": [
            "Naive Bayes Classifier Accuracy:\t 0.9253224711473184\n",
            "Naive Bayes Classifier Precision:\t 0.10344827586206896\n",
            "Naive Bayes Classifier Recall:\t\t 0.09375\n"
          ]
        }
      ]
    },
    {
      "cell_type": "code",
      "source": [
        "# 10-Fold Cross Validation for Naive Bayes Classifier\n",
        "cv_nb = cross_val_score(nb, df_dummy, df_dummy[class_col_name], cv=10)\n",
        "print(\"Cross-validated scores:\\t\", cv_nb)\n",
        "\n",
        "# Increased Accuracy score from 0.926 to 0.998"
      ],
      "metadata": {
        "colab": {
          "base_uri": "https://localhost:8080/"
        },
        "id": "N_jqdb8rofeX",
        "outputId": "2853e572-a8bb-4c3d-d92b-c3972adcd10a"
      },
      "execution_count": 49,
      "outputs": [
        {
          "output_type": "stream",
          "name": "stdout",
          "text": [
            "Cross-validated scores:\t [0.99796334 0.99592668 0.99796334 0.99796334 0.99592668 0.99389002\n",
            " 0.99592668 0.99796334 0.99796334 0.99795918]\n"
          ]
        }
      ]
    },
    {
      "cell_type": "code",
      "source": [
        "# Cross validation accuracy for Naive Bayes Classifier (R2 score)\n",
        "predictions = cross_val_predict(nb, df_dummy, df_dummy[class_col_name], cv=10)\n",
        "accuracy = metrics.r2_score(df_dummy[class_col_name], predictions)\n",
        "print(\"Cross-Predicted Accuracy for Naive Bayes Classifier: \", accuracy)"
      ],
      "metadata": {
        "colab": {
          "base_uri": "https://localhost:8080/"
        },
        "id": "hItvFbxYxKg3",
        "outputId": "7b44557f-3c91-428d-9e02-642ce6ba9cd8"
      },
      "execution_count": 50,
      "outputs": [
        {
          "output_type": "stream",
          "name": "stdout",
          "text": [
            "Cross-Predicted Accuracy for Naive Bayes Classifier:  0.9250381757100682\n"
          ]
        }
      ]
    },
    {
      "cell_type": "code",
      "source": [
        "end = time.time()\n",
        "\n",
        "print(\"Time to run Naive Bayes Classifier: \", end - start)"
      ],
      "metadata": {
        "colab": {
          "base_uri": "https://localhost:8080/"
        },
        "id": "mY_gD0BIFA0H",
        "outputId": "09f96c66-3296-4ee1-bd21-b1350cef2a3b"
      },
      "execution_count": 51,
      "outputs": [
        {
          "output_type": "stream",
          "name": "stdout",
          "text": [
            "Time to run Naive Bayes Classifier:  0.7576520442962646\n"
          ]
        }
      ]
    },
    {
      "cell_type": "code",
      "source": [
        "start = time.time()\n",
        "\n",
        "# Decision tree on dummy encoded data\n",
        "from sklearn import tree\n",
        "clf = tree.DecisionTreeClassifier(max_depth = 5) # 5 levels set\n",
        "clf = clf.fit(x_train_SMOTE, y_train_SMOTE)\n",
        "\n",
        "import graphviz\n",
        "# Obtain unique class values to show on tree\n",
        "class_values = df_dummy[class_col_name]. unique()\n",
        "print(\"class names: \", class_values)"
      ],
      "metadata": {
        "colab": {
          "base_uri": "https://localhost:8080/"
        },
        "id": "tQ3NdUkDAiDT",
        "outputId": "22fc5021-9e49-43a8-ac85-3e4d69887809"
      },
      "execution_count": 52,
      "outputs": [
        {
          "output_type": "stream",
          "name": "stdout",
          "text": [
            "class names:  [1. 0.]\n"
          ]
        }
      ]
    },
    {
      "cell_type": "code",
      "source": [
        "# Import libraries for plotting the decision tree\n",
        "import matplotlib\n",
        "from matplotlib import pyplot as plt"
      ],
      "metadata": {
        "id": "Af06dKYklblD"
      },
      "execution_count": 53,
      "outputs": []
    },
    {
      "cell_type": "code",
      "source": [
        "# Plot decision tree\n",
        "fig = plt.figure(figsize=(25,20))\n",
        "_ = tree.plot_tree(clf, feature_names = dummy_feature_names, class_names = str(class_values), filled = True, fontsize = 10)"
      ],
      "metadata": {
        "colab": {
          "base_uri": "https://localhost:8080/",
          "height": 989
        },
        "id": "eyOv1md3lb1u",
        "outputId": "2083849a-9e0e-4529-d0bd-08cf5ea0a842"
      },
      "execution_count": 54,
      "outputs": [
        {
          "output_type": "display_data",
          "data": {
            "text/plain": [
              "<Figure size 1800x1440 with 1 Axes>"
            ],
            "image/png": "[encoded data removed]"
          },
          "metadata": {
            "needs_background": "light"
          }
        }
      ]
    },
    {
      "cell_type": "code",
      "source": [
        "# Save decision tree figure\n",
        "fig.savefig(\"decision_tree8.png\")"
      ],
      "metadata": {
        "id": "UnEZ267GlcCK"
      },
      "execution_count": 55,
      "outputs": []
    },
    {
      "cell_type": "code",
      "source": [
        "# Perform prediction on test set\n",
        "y_pred = clf.predict(x_test)"
      ],
      "metadata": {
        "id": "4H66Jnd-DdYy"
      },
      "execution_count": 56,
      "outputs": []
    },
    {
      "cell_type": "code",
      "source": [
        "# Get decision tree confusion matrix\n",
        "cf = confusion_matrix(y_test, y_pred)\n",
        "print(\"Confusion Matrix\")\n",
        "print(cf)\n",
        "tn, fp, fn, tp = cf.ravel()\n",
        "print(\"TP: \", tp, \", FP: \", fp, \", TN: \", tn, \", FN: \", fn)"
      ],
      "metadata": {
        "colab": {
          "base_uri": "https://localhost:8080/"
        },
        "id": "aWbjwX6hmNV0",
        "outputId": "3122c566-4bb4-424d-a22e-773376c6c074"
      },
      "execution_count": 57,
      "outputs": [
        {
          "output_type": "stream",
          "name": "stdout",
          "text": [
            "Confusion Matrix\n",
            "[[495 914]\n",
            " [  6  58]]\n",
            "TP:  58 , FP:  914 , TN:  495 , FN:  6\n"
          ]
        }
      ]
    },
    {
      "cell_type": "code",
      "source": [
        "# Get decision tree report\n",
        "from sklearn.metrics import classification_report\n",
        "from sklearn import metrics\n",
        "print(classification_report(y_test, y_pred))\n",
        "\n",
        "# Oversampling can lead to overfitting"
      ],
      "metadata": {
        "colab": {
          "base_uri": "https://localhost:8080/"
        },
        "id": "coljHG2-ChPE",
        "outputId": "fd1efdf2-3dba-471f-e1d9-012ef7854d19"
      },
      "execution_count": 58,
      "outputs": [
        {
          "output_type": "stream",
          "name": "stdout",
          "text": [
            "              precision    recall  f1-score   support\n",
            "\n",
            "         0.0       0.99      0.35      0.52      1409\n",
            "         1.0       0.06      0.91      0.11        64\n",
            "\n",
            "    accuracy                           0.38      1473\n",
            "   macro avg       0.52      0.63      0.32      1473\n",
            "weighted avg       0.95      0.38      0.50      1473\n",
            "\n"
          ]
        }
      ]
    },
    {
      "cell_type": "code",
      "source": [
        "# Display Evaluation Metrics for Decision Tree\n",
        "print(\"Decision Tree Accuracy:\\t\\t\", metrics.accuracy_score(y_test, y_pred))\n",
        "print(\"Decision Tree Precision:\\t\",metrics.precision_score(y_test, y_pred))\n",
        "print(\"Decision Tree Recall:\\t\\t\",metrics.recall_score(y_test, y_pred))"
      ],
      "metadata": {
        "colab": {
          "base_uri": "https://localhost:8080/"
        },
        "id": "0OILOY19RT_k",
        "outputId": "08a029d5-20b6-4a32-f82e-852478565daa"
      },
      "execution_count": 59,
      "outputs": [
        {
          "output_type": "stream",
          "name": "stdout",
          "text": [
            "Decision Tree Accuracy:\t\t 0.3754243041412084\n",
            "Decision Tree Precision:\t 0.059670781893004114\n",
            "Decision Tree Recall:\t\t 0.90625\n"
          ]
        }
      ]
    },
    {
      "cell_type": "code",
      "source": [
        "# 10-Fold Cross Validation for Decision Tree\n",
        "cv_dt = cross_val_score(clf, df_dummy, df_dummy[class_col_name], cv=10)\n",
        "print(\"Cross-validated scores:\\t\", cv_dt)\n",
        "\n",
        "# Increased Accuracy score from 0.375 to 1"
      ],
      "metadata": {
        "colab": {
          "base_uri": "https://localhost:8080/"
        },
        "id": "fGNQpiI0ooVb",
        "outputId": "534e390a-8513-45f4-be2a-e0d37d57d40f"
      },
      "execution_count": 60,
      "outputs": [
        {
          "output_type": "stream",
          "name": "stdout",
          "text": [
            "Cross-validated scores:\t [1. 1. 1. 1. 1. 1. 1. 1. 1. 1.]\n"
          ]
        }
      ]
    },
    {
      "cell_type": "code",
      "source": [
        "# Cross validation accuracy for Decision Tree (R2 score)\n",
        "predictions = cross_val_predict(clf, df_dummy, df_dummy[class_col_name], cv=10)\n",
        "accuracy = metrics.r2_score(df_dummy[class_col_name], predictions)\n",
        "print(\"Cross-Predicted Accuracy for Decision Tree: \", accuracy)"
      ],
      "metadata": {
        "colab": {
          "base_uri": "https://localhost:8080/"
        },
        "id": "t4GtDa3lxWrg",
        "outputId": "54444d3d-496e-4e2f-96ba-cb34b4582c7a"
      },
      "execution_count": 61,
      "outputs": [
        {
          "output_type": "stream",
          "name": "stdout",
          "text": [
            "Cross-Predicted Accuracy for Decision Tree:  1.0\n"
          ]
        }
      ]
    },
    {
      "cell_type": "code",
      "source": [
        "end = time.time()\n",
        "\n",
        "print(\"Time to run Decision Tree: \", end - start)"
      ],
      "metadata": {
        "colab": {
          "base_uri": "https://localhost:8080/"
        },
        "id": "Za8G3s1OFPp1",
        "outputId": "25590736-f482-4939-82ac-76be94327a98"
      },
      "execution_count": 62,
      "outputs": [
        {
          "output_type": "stream",
          "name": "stdout",
          "text": [
            "Time to run Decision Tree:  4.123949289321899\n"
          ]
        }
      ]
    }
  ]
}